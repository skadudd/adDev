{
 "cells": [
  {
   "cell_type": "code",
   "execution_count": null,
   "metadata": {},
   "outputs": [],
   "source": []
  },
  {
   "cell_type": "code",
   "execution_count": 26,
   "metadata": {},
   "outputs": [],
   "source": [
    "from PyPDF2 import PdfReader, PdfWriter\n",
    "import os\n",
    "\n",
    "# Set the folder path and margin\n",
    "folder = '/Users/nam-yeong/Downloads/test'\n",
    "margin = int(input('margin: '))\n",
    "\n",
    "for item in os.listdir(folder):\n",
    "    item_path = os.path.join(folder, item)\n",
    "    pdf = PdfReader(open(item_path, 'rb'))\n",
    "    numberPages = len(pdf.pages)\n",
    "\n",
    "    output = PdfWriter()\n",
    "    for page in range(numberPages):\n",
    "        p = pdf.pages[page]\n",
    "        \n",
    "        for box in (p.mediabox, p.cropbox, p.bleedbox, p.trimbox, p.artbox):\n",
    "            box.upper_right = (box.upper_right[0] - margin, box.upper_right[1] - margin)\n",
    "            box.lower_left = (box.lower_left[0] + margin, box.lower_left[1] + margin)\n",
    "\n",
    "        output.add_page(p)\n",
    "    output_file = os.path.join(folder, 'new_' + item)\n",
    "    with open(output_file, 'wb') as output_pdf:\n",
    "        output.write(output_pdf)\n"
   ]
  },
  {
   "cell_type": "code",
   "execution_count": null,
   "metadata": {},
   "outputs": [],
   "source": []
  },
  {
   "cell_type": "code",
   "execution_count": null,
   "metadata": {},
   "outputs": [],
   "source": []
  }
 ],
 "metadata": {
  "kernelspec": {
   "display_name": "img",
   "language": "python",
   "name": "python3"
  },
  "language_info": {
   "codemirror_mode": {
    "name": "ipython",
    "version": 3
   },
   "file_extension": ".py",
   "mimetype": "text/x-python",
   "name": "python",
   "nbconvert_exporter": "python",
   "pygments_lexer": "ipython3",
   "version": "3.8.18"
  }
 },
 "nbformat": 4,
 "nbformat_minor": 2
}
