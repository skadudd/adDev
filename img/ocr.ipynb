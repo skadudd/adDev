{
 "cells": [
  {
   "cell_type": "code",
   "execution_count": 12,
   "metadata": {},
   "outputs": [],
   "source": [
    "from matplotlib import pyplot as plt\n",
    "from imutils.perspective import four_point_transform\n",
    "from imutils.contours import sort_contours\n",
    "import imutils\n",
    "from easyocr import Reader\n",
    "import easyocr\n",
    "import cv2\n",
    "import requests\n",
    "import numpy as np\n",
    "from PIL import ImageFont, ImageDraw, Image\n",
    "import os\n"
   ]
  },
  {
   "cell_type": "code",
   "execution_count": 20,
   "metadata": {},
   "outputs": [
    {
     "name": "stdout",
     "output_type": "stream",
     "text": [
      "[([[112, 226], [526, 226], [526, 322], [112, 322]], '이유.--내댁', 0.00020480253407185908), ([[100, 414], [1426, 414], [1426, 638], [100, 638]], '행동 데이터 분석', 0.977620567743903), ([[113, 672], [908, 672], [908, 756], [113, 756]], '3~^하감아마리/ [라+교 4라덕하;도', 1.0484212264141368e-05), ([[109, 755], [714, 755], [714, 842], [109, 842]], '버+} [ 리풀/ [복+^어7', 2.314658340657685e-05), ([[111, 893], [1013, 893], [1013, 953], [111, 953]], '[과 파이선으로 시작하는 행동 데이터 분석 가이드', 0.31380061376530927), ([[197, 1137], [297, 1137], [297, 1181], [197, 1181]], '전세계', 0.999978319994131), ([[436, 1135], [592, 1135], [592, 1183], [436, 1183]], '& 파이씬올', 0.3901974736438374), ([[137, 1187], [359, 1187], [359, 1231], [137, 1231]], '행동 과학 전문가', 0.9998206646589193), ([[435, 1187], [591, 1187], [591, 1231], [435, 1231]], '활용한 예제', 0.49427078111218575), ([[201, 1237], [295, 1237], [295, 1281], [201, 1281]], '필독서', 0.7777011360324675), ([[449, 1237], [577, 1237], [577, 1279], [449, 1279]], '대쪽 수록', 0.8586859242841042), ([[1357, 2077], [1555, 2077], [1555, 2117], [1357, 2117]], '플로랑 뵈송 지음', 0.23878226970931088), ([[110, 2100], [394, 2100], [394, 2156], [110, 2156]], '씨; 한빛째도인', 0.020729725357775366), ([[267, 2135], [381, 2135], [381, 2151], [267, 2151]], '\"떨7퍽하+ 어서응/ 이후', 2.1096665485237906e-05), ([[1437, 2119], [1553, 2119], [1553, 2155], [1437, 2155]], '시진 옮김', 0.7813753066566967)]\n"
     ]
    }
   ],
   "source": [
    "tg_folder = '/Users/nam-yeong/Documents/행동데이터분석/행동데이터분석'\n",
    "to_folder = '/Users/nam-yeong/Documents/tg'\n",
    "files = os.listdir(tg_folder)\n",
    "filenames = [f for f in os.listdir(tg_folder) if not f.startswith('.')]\n",
    "\n",
    "sorted_names = sorted(filenames)\n",
    "sorted_names\n",
    "filename = sorted_names[0]\n",
    "\n",
    "img_path = os.path.join(tg_folder, filename)\n",
    "\n",
    "reader = easyocr.Reader(['ko']) # 'en': 영어로 설정\n",
    "result = reader.readtext(img_path) \n",
    "print(result)"
   ]
  }
 ],
 "metadata": {
  "kernelspec": {
   "display_name": "torch_nightly",
   "language": "python",
   "name": "python3"
  },
  "language_info": {
   "codemirror_mode": {
    "name": "ipython",
    "version": 3
   },
   "file_extension": ".py",
   "mimetype": "text/x-python",
   "name": "python",
   "nbconvert_exporter": "python",
   "pygments_lexer": "ipython3",
   "version": "3.8.16"
  }
 },
 "nbformat": 4,
 "nbformat_minor": 2
}
