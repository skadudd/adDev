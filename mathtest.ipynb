{
 "cells": [
  {
   "cell_type": "code",
   "execution_count": 1,
   "metadata": {},
   "outputs": [],
   "source": [
    "import pandas as pd\n",
    "import numpy as np"
   ]
  },
  {
   "cell_type": "code",
   "execution_count": 4,
   "metadata": {},
   "outputs": [
    {
     "data": {
      "text/latex": [
       "$\\displaystyle \\left[\\begin{matrix}1 & 2 & 3\\\\-3 & 1 & -2\\\\2 & -3 & -1\\end{matrix}\\right]$"
      ],
      "text/plain": [
       "Matrix([\n",
       "[ 1,  2,  3],\n",
       "[-3,  1, -2],\n",
       "[ 2, -3, -1]])"
      ]
     },
     "execution_count": 4,
     "metadata": {},
     "output_type": "execute_result"
    }
   ],
   "source": [
    "from sympy import Matrix\n",
    "\n",
    "# Define the vectors u, v, and w\n",
    "u = [1, 2, 3]\n",
    "v = [-3, 1, -2]\n",
    "w = [2, -3, -1]\n",
    "\n",
    "# Create a matrix with u, v, and w as rows\n",
    "matrix = Matrix([u, v, w])\n",
    "\n",
    "# Calculate the rank of the matrix\n",
    "rank = matrix.rank()\n",
    "rank\n",
    "matrix\n"
   ]
  },
  {
   "cell_type": "code",
   "execution_count": 5,
   "metadata": {},
   "outputs": [
    {
     "data": {
      "text/plain": [
       "[3, 4]"
      ]
     },
     "execution_count": 5,
     "metadata": {},
     "output_type": "execute_result"
    }
   ],
   "source": [
    "# Given vectors v and w\n",
    "v = [4, 2]\n",
    "w = [-1, 2]\n",
    "\n",
    "# The sum of the diagonals of a parallelogram formed by these vectors can be found by adding the vectors\n",
    "# The diagonal of a parallelogram formed by two vectors is represented by the sum of these vectors.\n",
    "\n",
    "# Calculating the diagonal\n",
    "diagonal_sum = [v[0] + w[0], v[1] + w[1]]\n",
    "diagonal_sum\n",
    "\n"
   ]
  },
  {
   "cell_type": "code",
   "execution_count": null,
   "metadata": {},
   "outputs": [],
   "source": [
    "u = [1,0,0]\n",
    "v = [-3,1,0]\n",
    "w = [0,0,1]\n",
    "a = Matrix([u,v,w])\n",
    "\n",
    "u = [1,2,1]\n",
    "v = [3,8,1]\n",
    "w = [0,4,1]\n",
    "b = Matrix([u,v,w])\n",
    "\n",
    "\n",
    "\n"
   ]
  },
  {
   "cell_type": "code",
   "execution_count": 9,
   "metadata": {},
   "outputs": [
    {
     "data": {
      "text/plain": [
       "array([[ 1,  2,  1],\n",
       "       [ 0,  2, -2],\n",
       "       [ 0,  4,  1]])"
      ]
     },
     "execution_count": 9,
     "metadata": {},
     "output_type": "execute_result"
    }
   ],
   "source": [
    "import numpy as np\n",
    "\n",
    "a = np.array([\n",
    "\n",
    "     [1,0,0],\n",
    "     [-3,1,0],\n",
    "     [0,0,1]\n",
    " ])\n",
    "\n",
    "b = np.array([\n",
    "    [1,2,1],\n",
    "    [3,8,1],\n",
    "    [0,4,1]\n",
    "])\n",
    "\n",
    "a.dot(b)\n"
   ]
  },
  {
   "cell_type": "code",
   "execution_count": 15,
   "metadata": {},
   "outputs": [],
   "source": [
    "A = np.array([\n",
    "    [5,-1,-2],\n",
    "    [10,-2,-4],\n",
    "    [15,-3,-6]\n",
    "])\n",
    "B = np.array([\n",
    "    [1,1,3],\n",
    "    [1,-1,-1],\n",
    "    [2,3,8]\n",
    "])\n",
    "C = np.array([\n",
    "    [-1],\n",
    "    [1]\n",
    "])"
   ]
  },
  {
   "cell_type": "code",
   "execution_count": 17,
   "metadata": {},
   "outputs": [
    {
     "data": {
      "text/plain": [
       "array([[  5,  -1,  -6],\n",
       "       [ 10,   2,   4],\n",
       "       [ 30,  -9, -48]])"
      ]
     },
     "execution_count": 17,
     "metadata": {},
     "output_type": "execute_result"
    }
   ],
   "source": [
    "# A+B\n",
    "\n",
    "# B+A\n",
    "# B+B+B\n",
    "# 3*B\n",
    "# 3*A + 2*B\n",
    "# A+C\n",
    "A*B\n"
   ]
  }
 ],
 "metadata": {
  "kernelspec": {
   "display_name": "tf28",
   "language": "python",
   "name": "python3"
  },
  "language_info": {
   "codemirror_mode": {
    "name": "ipython",
    "version": 3
   },
   "file_extension": ".py",
   "mimetype": "text/x-python",
   "name": "python",
   "nbconvert_exporter": "python",
   "pygments_lexer": "ipython3",
   "version": "3.9.16"
  }
 },
 "nbformat": 4,
 "nbformat_minor": 2
}
