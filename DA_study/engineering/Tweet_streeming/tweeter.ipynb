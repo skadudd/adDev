{
 "cells": [
  {
   "cell_type": "code",
   "execution_count": null,
   "metadata": {},
   "outputs": [],
   "source": [
    "import tweepy\n",
    "import pandas as pd\n",
    "\n",
    "twitter_api_key = '<twitter_api_key>'\n",
    "twitter_api_secret_key = '<twitter_api_secret_key>' twitter_access_token = '<twitter_access_token>' twitter_access_token_secret = '<twitter_access_token_secret>'\n",
    "class SimpleStreamListener(tweepy.StreamListener):\n",
    "   def on_status(self, status):\n",
    "       print(status)\n",
    "stream_listener = SimpleStreamListener()\n",
    "auth = tweepy.OAuthHandler(twitter_api_key, twitter_api_secret_key)\n",
    "auth.set_access_token(twitter_access_token, twitter_access_token_secret)\n",
    "twitterStream = tweepy.Stream(auth, stream_listener) twitterStream.filter(track=['data'])\n",
    " "
   ]
  }
 ],
 "metadata": {
  "language_info": {
   "name": "python"
  },
  "orig_nbformat": 4
 },
 "nbformat": 4,
 "nbformat_minor": 2
}
