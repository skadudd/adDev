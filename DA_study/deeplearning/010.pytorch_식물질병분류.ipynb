{
 "cells": [
  {
   "cell_type": "code",
   "execution_count": 1,
   "metadata": {},
   "outputs": [],
   "source": [
    "import torch\n",
    "import torch.nn as nn\n",
    "import torch.nn.functional as F\n",
    "import torch.optim as optim\n",
    "\n",
    "import matplotlib.pyplot as plt\n",
    "%matplotlib inline"
   ]
  },
  {
   "cell_type": "code",
   "execution_count": 2,
   "metadata": {},
   "outputs": [
    {
     "name": "stdout",
     "output_type": "stream",
     "text": [
      "current_device :  mps\n"
     ]
    }
   ],
   "source": [
    "is_mps = torch.backends.mps.is_available()\n",
    "device = torch.device('mps' if is_mps else 'cpu')\n",
    "print('current_device : ',device)"
   ]
  },
  {
   "cell_type": "code",
   "execution_count": 7,
   "metadata": {},
   "outputs": [],
   "source": [
    "import os\n",
    "# os.mkdir('/Volumes/My Passport/dataset/data')\n",
    "!unzip -qq '/Volumes/My Passport/dataset/dataset.zip' -d '/Volumes/My Passport/dataset/data'"
   ]
  },
  {
   "cell_type": "code",
   "execution_count": 41,
   "metadata": {},
   "outputs": [],
   "source": [
    "import os\n",
    "original_dataset_dir = '/Volumes/My Passport/dataset/data'\n",
    "classes_list = []\n",
    "\n",
    "for i in os.listdir(original_dataset_dir):\n",
    "    if os.path.isdir(os.path.join(original_dataset_dir,i)):\n",
    "        classes_list.append(i)\n",
    "\n",
    "base_dir = '/Volumes/My Passport/dataset/splitted'\n",
    "os.mkdir(base_dir)"
   ]
  },
  {
   "cell_type": "code",
   "execution_count": 42,
   "metadata": {},
   "outputs": [
    {
     "name": "stdout",
     "output_type": "stream",
     "text": [
      "Pepper,_bell___healthy\n",
      "Grape___Esca_(Black_Measles)\n",
      "Pepper,_bell___Bacterial_spot\n",
      "Strawberry___healthy\n",
      "Grape___Black_rot\n",
      "Corn___Common_rust\n",
      "Apple___Apple_scab\n",
      "Potato___healthy\n",
      "Potato___Late_blight\n",
      "Cherry___healthy\n",
      "Tomato___Bacterial_spot\n",
      "Apple___Black_rot\n",
      "Cherry___Powdery_mildew\n",
      "Corn___Cercospora_leaf_spot Gray_leaf_spot\n",
      "Peach___healthy\n",
      "Tomato___Early_blight\n",
      "Tomato___Tomato_Yellow_Leaf_Curl_Virus\n",
      "Grape___Leaf_blight_(Isariopsis_Leaf_Spot)\n",
      "Potato___Early_blight\n",
      "Grape___healthy\n",
      "Apple___Cedar_apple_rust\n",
      "Corn___Northern_Leaf_Blight\n",
      "Tomato___Septoria_leaf_spot\n",
      "Corn___healthy\n",
      "Strawberry___Leaf_scorch\n",
      "Tomato___Tomato_mosaic_virus\n",
      "Tomato___Leaf_Mold\n",
      "Tomato___Late_blight\n",
      "Tomato___healthy\n",
      "Tomato___Spider_mites Two-spotted_spider_mite\n",
      "Apple___healthy\n",
      "Tomato___Target_Spot\n",
      "Peach___Bacterial_spot\n"
     ]
    }
   ],
   "source": [
    "#데이터 분기할 폴더 트리 생성\n",
    "import shutil\n",
    "train_dir = os.path.join(base_dir,'train')\n",
    "os.mkdir(train_dir)\n",
    "validation_dir = os.path.join(base_dir,'validation')\n",
    "os.mkdir(validation_dir)\n",
    "test_dir = os.path.join(base_dir,'test')\n",
    "os.mkdir(test_dir)\n",
    "\n",
    "for cls in classes_list:\n",
    "    print(cls)\n",
    "    os.mkdir(os.path.join(train_dir,cls))\n",
    "    os.mkdir(os.path.join(validation_dir,cls))\n",
    "    os.mkdir(os.path.join(test_dir,cls))"
   ]
  },
  {
   "cell_type": "code",
   "execution_count": 61,
   "metadata": {},
   "outputs": [
    {
     "name": "stdout",
     "output_type": "stream",
     "text": [
      "Train size( Pepper,_bell___healthy )  886\n",
      "Train size( Grape___Esca_(Black_Measles) )  829\n",
      "Train size( Pepper,_bell___Bacterial_spot )  598\n",
      "Train size( Strawberry___healthy )  273\n",
      "Train size( Grape___Black_rot )  708\n",
      "Train size( Corn___Common_rust )  715\n",
      "Train size( Apple___Apple_scab )  378\n",
      "Train size( Potato___healthy )  91\n",
      "Train size( Potato___Late_blight )  600\n",
      "Train size( Cherry___healthy )  512\n",
      "Train size( Tomato___Bacterial_spot )  1276\n",
      "Train size( Apple___Black_rot )  372\n",
      "Train size( Cherry___Powdery_mildew )  631\n",
      "Train size( Corn___Cercospora_leaf_spot Gray_leaf_spot )  307\n",
      "Train size( Peach___healthy )  216\n",
      "Train size( Tomato___Early_blight )  600\n",
      "Train size( Tomato___Tomato_Yellow_Leaf_Curl_Virus )  3214\n",
      "Train size( Grape___Leaf_blight_(Isariopsis_Leaf_Spot) )  645\n",
      "Train size( Potato___Early_blight )  600\n",
      "Train size( Grape___healthy )  253\n",
      "Train size( Apple___Cedar_apple_rust )  165\n",
      "Train size( Corn___Northern_Leaf_Blight )  591\n",
      "Train size( Tomato___Septoria_leaf_spot )  1062\n",
      "Train size( Corn___healthy )  697\n",
      "Train size( Strawberry___Leaf_scorch )  665\n",
      "Train size( Tomato___Tomato_mosaic_virus )  223\n",
      "Train size( Tomato___Leaf_Mold )  571\n",
      "Train size( Tomato___Late_blight )  1145\n",
      "Train size( Tomato___healthy )  954\n",
      "Train size( Tomato___Spider_mites Two-spotted_spider_mite )  1005\n",
      "Train size( Apple___healthy )  987\n",
      "Train size( Tomato___Target_Spot )  842\n",
      "Train size( Peach___Bacterial_spot )  1378\n"
     ]
    }
   ],
   "source": [
    "#데이터 현황 확인\n",
    "import math\n",
    "\n",
    "for cls in classes_list:\n",
    "    if os.path.isdir(os.path.join(original_dataset_dir, cls)):\n",
    "        path = os.path.join(original_dataset_dir,cls)\n",
    "        #DS.store 파일 무시\n",
    "        fnames = sorted((f for f in os.listdir(path) if not f.startswith('.')),key=str.lower)\n",
    "\n",
    "        train_size = math.floor(len(fnames) * 0.6)\n",
    "        validation_size = math.floor(len(fnames) * 0.2)\n",
    "        test_size = math.floor(len(fnames) * 0.2)\n",
    "        \n",
    "        train_fnames = fnames[:train_size]\n",
    "        print(\"Train size(\",cls,\") \", len(train_fnames))\n",
    "        for fname in fnames:\n",
    "            source = os.path.join(path,fname)\n",
    "            destination = os.path.join(os.path.join(train_dir,cls),fname)\n",
    "            shutil.copyfile(source,destination)\n",
    "        \n",
    "        validation_fnames = fnames[train_size:(validation_size + test_size)]\n",
    "        print(\"Train size(\",cls,\") \", len(train_fnames))\n",
    "        for fname in fnames:\n",
    "            source = os.path.join(path,fname)\n",
    "            destination = os.path.join(os.path.join(train_dir,cls),fname)\n",
    "            shutil.copyfile(source,destination)\n",
    "        \n",
    "        test_fnames = fnames[:train_size]\n",
    "        print(\"Train size(\",cls,\") \", len(train_fnames))\n",
    "        for fname in fnames:\n",
    "            source = os.path.join(path,fname)\n",
    "            destination = os.path.join(os.path.join(train_dir,cls),fname)\n",
    "            shutil.copyfile(source,destination)\n",
    "        \n",
    "        "
   ]
  }
 ],
 "metadata": {
  "kernelspec": {
   "display_name": "Python 3",
   "language": "python",
   "name": "python3"
  },
  "language_info": {
   "codemirror_mode": {
    "name": "ipython",
    "version": 3
   },
   "file_extension": ".py",
   "mimetype": "text/x-python",
   "name": "python",
   "nbconvert_exporter": "python",
   "pygments_lexer": "ipython3",
   "version": "3.8.16"
  },
  "orig_nbformat": 4
 },
 "nbformat": 4,
 "nbformat_minor": 2
}
