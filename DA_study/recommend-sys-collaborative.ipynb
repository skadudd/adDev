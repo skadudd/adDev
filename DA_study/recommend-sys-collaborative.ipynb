{
 "cells": [
  {
   "cell_type": "code",
   "execution_count": 1,
   "metadata": {},
   "outputs": [],
   "source": [
    "from surprise import KNNBasic, SVD, SVDpp, NMF\n",
    "from surprise import Dataset\n",
    "from surprise.model_selection import cross_validate\n",
    "import pandas as pd\n",
    "import numpy as np\n",
    "from surprise import Dataset"
   ]
  },
  {
   "cell_type": "code",
   "execution_count": 4,
   "metadata": {},
   "outputs": [
    {
     "data": {
      "text/plain": [
       "[('196', '242', 3.0, '881250949'),\n",
       " ('186', '302', 3.0, '891717742'),\n",
       " ('22', '377', 1.0, '878887116'),\n",
       " ('244', '51', 2.0, '880606923'),\n",
       " ('166', '346', 1.0, '886397596'),\n",
       " ('298', '474', 4.0, '884182806'),\n",
       " ('115', '265', 2.0, '881171488'),\n",
       " ('253', '465', 5.0, '891628467'),\n",
       " ('305', '451', 3.0, '886324817'),\n",
       " ('6', '86', 3.0, '883603013')]"
      ]
     },
     "execution_count": 4,
     "metadata": {},
     "output_type": "execute_result"
    }
   ],
   "source": [
    "data = Dataset.load_builtin('ml-100k', prompt=False)\n",
    "data.raw_ratings[:10]"
   ]
  },
  {
   "cell_type": "code",
   "execution_count": 5,
   "metadata": {},
   "outputs": [
    {
     "name": "stdout",
     "output_type": "stream",
     "text": [
      "Computing the msd similarity matrix...\n",
      "Computing the msd similarity matrix...\n",
      "Computing the msd similarity matrix...\n",
      "Done computing similarity matrix.\n",
      "Done computing similarity matrix.\n",
      "Computing the msd similarity matrix...\n",
      "Done computing similarity matrix.\n",
      "Done computing similarity matrix.\n",
      "Computing the msd similarity matrix...\n",
      "Done computing similarity matrix.\n",
      "Evaluating RMSE, MAE of algorithm KNNBasic on 5 split(s).\n",
      "\n",
      "                  Fold 1  Fold 2  Fold 3  Fold 4  Fold 5  Mean    Std     \n",
      "RMSE (testset)    0.9787  0.9808  0.9777  0.9730  0.9858  0.9792  0.0042  \n",
      "MAE (testset)     0.7718  0.7751  0.7724  0.7680  0.7792  0.7733  0.0037  \n",
      "Fit time          0.17    0.16    0.16    0.13    0.18    0.16    0.02    \n",
      "Test time         1.82    1.91    1.83    1.82    1.63    1.80    0.09    \n"
     ]
    },
    {
     "data": {
      "text/plain": [
       "{'test_rmse': array([0.97871253, 0.98077293, 0.97769819, 0.97300932, 0.98583016]),\n",
       " 'test_mae': array([0.77182075, 0.77508048, 0.77244896, 0.7679586 , 0.77920602]),\n",
       " 'fit_time': (0.1651628017425537,\n",
       "  0.15785813331604004,\n",
       "  0.1577911376953125,\n",
       "  0.13412714004516602,\n",
       "  0.18157410621643066),\n",
       " 'test_time': (1.8202028274536133,\n",
       "  1.913985013961792,\n",
       "  1.8286757469177246,\n",
       "  1.816680908203125,\n",
       "  1.6276848316192627)}"
      ]
     },
     "execution_count": 5,
     "metadata": {},
     "output_type": "execute_result"
    }
   ],
   "source": [
    "model = KNNBasic()\n",
    "cross_validate(model, data, measures=['rmse','mae'], cv=5, n_jobs=4, verbose=True)"
   ]
  },
  {
   "cell_type": "code",
   "execution_count": 6,
   "metadata": {},
   "outputs": [
    {
     "name": "stdout",
     "output_type": "stream",
     "text": [
      "Evaluating RMSE, MAE of algorithm SVD on 5 split(s).\n",
      "\n",
      "                  Fold 1  Fold 2  Fold 3  Fold 4  Fold 5  Mean    Std     \n",
      "RMSE (testset)    0.9367  0.9359  0.9392  0.9358  0.9410  0.9377  0.0020  \n",
      "MAE (testset)     0.7400  0.7380  0.7402  0.7366  0.7431  0.7396  0.0022  \n",
      "Fit time          0.55    0.58    0.59    0.55    0.41    0.54    0.06    \n",
      "Test time         0.18    0.18    0.13    0.12    0.09    0.14    0.04    \n"
     ]
    },
    {
     "data": {
      "text/plain": [
       "{'test_rmse': array([0.93670874, 0.93589482, 0.93915726, 0.93581101, 0.94095188]),\n",
       " 'test_mae': array([0.73999928, 0.73799168, 0.74018353, 0.7365831 , 0.74312216]),\n",
       " 'fit_time': (0.5543498992919922,\n",
       "  0.5771839618682861,\n",
       "  0.5856869220733643,\n",
       "  0.5541641712188721,\n",
       "  0.4092528820037842),\n",
       " 'test_time': (0.18474912643432617,\n",
       "  0.17515802383422852,\n",
       "  0.1285719871520996,\n",
       "  0.1201479434967041,\n",
       "  0.08983302116394043)}"
      ]
     },
     "execution_count": 6,
     "metadata": {},
     "output_type": "execute_result"
    }
   ],
   "source": [
    "model = SVD()\n",
    "cross_validate(model, data, measures=['rmse','mae'], cv=5, n_jobs=4, verbose=True)"
   ]
  },
  {
   "cell_type": "code",
   "execution_count": 7,
   "metadata": {},
   "outputs": [
    {
     "name": "stdout",
     "output_type": "stream",
     "text": [
      "Evaluating RMSE, MAE of algorithm NMF on 5 split(s).\n",
      "\n",
      "                  Fold 1  Fold 2  Fold 3  Fold 4  Fold 5  Mean    Std     \n",
      "RMSE (testset)    0.9618  0.9637  0.9692  0.9659  0.9580  0.9637  0.0038  \n",
      "MAE (testset)     0.7580  0.7560  0.7626  0.7562  0.7541  0.7574  0.0029  \n",
      "Fit time          1.04    1.23    1.22    1.37    1.01    1.17    0.13    \n",
      "Test time         0.25    0.56    0.55    0.26    0.13    0.35    0.17    \n"
     ]
    },
    {
     "data": {
      "text/plain": [
       "{'test_rmse': array([0.96184998, 0.96367254, 0.96924499, 0.96588818, 0.95804534]),\n",
       " 'test_mae': array([0.75803479, 0.75599126, 0.76263359, 0.75620927, 0.75407067]),\n",
       " 'fit_time': (1.0367119312286377,\n",
       "  1.2291781902313232,\n",
       "  1.2152292728424072,\n",
       "  1.3713791370391846,\n",
       "  1.014988660812378),\n",
       " 'test_time': (0.2504861354827881,\n",
       "  0.5555140972137451,\n",
       "  0.5494372844696045,\n",
       "  0.2552051544189453,\n",
       "  0.12565183639526367)}"
      ]
     },
     "execution_count": 7,
     "metadata": {},
     "output_type": "execute_result"
    }
   ],
   "source": [
    "model = NMF()\n",
    "cross_validate(model, data, measures=['rmse','mae'], cv=5, n_jobs=4, verbose=True)"
   ]
  },
  {
   "cell_type": "code",
   "execution_count": 8,
   "metadata": {},
   "outputs": [
    {
     "name": "stdout",
     "output_type": "stream",
     "text": [
      "Evaluating RMSE, MAE of algorithm SVDpp on 5 split(s).\n",
      "\n",
      "                  Fold 1  Fold 2  Fold 3  Fold 4  Fold 5  Mean    Std     \n",
      "RMSE (testset)    0.9177  0.9237  0.9123  0.9227  0.9240  0.9201  0.0045  \n",
      "MAE (testset)     0.7212  0.7242  0.7180  0.7229  0.7252  0.7223  0.0025  \n",
      "Fit time          7.97    7.35    7.55    7.35    6.27    7.30    0.56    \n",
      "Test time         2.40    2.39    2.45    2.35    1.62    2.24    0.31    \n"
     ]
    },
    {
     "data": {
      "text/plain": [
       "{'test_rmse': array([0.91773775, 0.92373391, 0.91229416, 0.92273039, 0.92402606]),\n",
       " 'test_mae': array([0.72115483, 0.7242079 , 0.71803106, 0.72286849, 0.72518487]),\n",
       " 'fit_time': (7.969197034835815,\n",
       "  7.34874415397644,\n",
       "  7.551813840866089,\n",
       "  7.346053838729858,\n",
       "  6.273133039474487),\n",
       " 'test_time': (2.4032299518585205,\n",
       "  2.3919601440429688,\n",
       "  2.452057123184204,\n",
       "  2.3484859466552734,\n",
       "  1.6237428188323975)}"
      ]
     },
     "execution_count": 8,
     "metadata": {},
     "output_type": "execute_result"
    }
   ],
   "source": [
    "model = SVDpp()\n",
    "cross_validate(model, data, measures=['rmse','mae'], cv=5, n_jobs=4, verbose=True)"
   ]
  },
  {
   "cell_type": "code",
   "execution_count": 10,
   "metadata": {},
   "outputs": [],
   "source": [
    "from sklearn.decomposition import randomized_svd, non_negative_factorization\n"
   ]
  },
  {
   "cell_type": "code",
   "execution_count": 37,
   "metadata": {},
   "outputs": [],
   "source": [
    "data = Dataset.load_builtin('ml-100k', prompt=False)\n",
    "raw_data = np.array(data.raw_ratings, dtype=int)\n",
    "raw_data[:, 0] -= -1\n",
    "raw_data[: ,1] -= -1\n"
   ]
  },
  {
   "cell_type": "code",
   "execution_count": 38,
   "metadata": {},
   "outputs": [
    {
     "data": {
      "text/plain": [
       "(945, 1684)"
      ]
     },
     "execution_count": 38,
     "metadata": {},
     "output_type": "execute_result"
    }
   ],
   "source": [
    "n_users = np.max(raw_data[:,0])\n",
    "n_movies = np.max(raw_data[:,1])\n",
    "shape = (n_users +1, n_movies +1)\n",
    "shape"
   ]
  },
  {
   "cell_type": "code",
   "execution_count": 39,
   "metadata": {},
   "outputs": [],
   "source": [
    "adj_matrix = np.ndarray(shape, dtype=int)\n",
    "for user_id, movie_id, rating, time in raw_data:\n",
    "    adj_matrix[user_id][movie_id] = rating"
   ]
  },
  {
   "cell_type": "code",
   "execution_count": 40,
   "metadata": {},
   "outputs": [
    {
     "data": {
      "text/plain": [
       "array([[0, 0, 0, ..., 0, 0, 0],\n",
       "       [0, 0, 0, ..., 0, 0, 0],\n",
       "       [0, 0, 5, ..., 0, 0, 0],\n",
       "       ...,\n",
       "       [0, 0, 5, ..., 0, 0, 0],\n",
       "       [0, 0, 0, ..., 0, 0, 0],\n",
       "       [0, 0, 0, ..., 0, 0, 0]])"
      ]
     },
     "execution_count": 40,
     "metadata": {},
     "output_type": "execute_result"
    }
   ],
   "source": [
    "adj_matrix"
   ]
  },
  {
   "cell_type": "code",
   "execution_count": 42,
   "metadata": {},
   "outputs": [
    {
     "name": "stderr",
     "output_type": "stream",
     "text": [
      "/Users/young/opt/anaconda3/envs/coin/lib/python3.8/site-packages/sklearn/utils/extmath.py:370: FutureWarning: If 'random_state' is not supplied, the current default is to use 0 as a fixed seed. This will change to  None in version 1.2 leading to non-deterministic results that better reflect nature of the randomized_svd solver. If you want to silence this warning, set 'random_state' to an integer seed or to None explicitly depending if you want your code to be deterministic or not.\n",
      "  warnings.warn(\n"
     ]
    }
   ],
   "source": [
    "#U, V = 사용자, 아이템의 행렬\n",
    "#S = 특잇값 벡터\n",
    "U,S,V = randomized_svd(adj_matrix,n_components=2)\n",
    "S = np.diag(S)"
   ]
  },
  {
   "cell_type": "code",
   "execution_count": 44,
   "metadata": {},
   "outputs": [
    {
     "name": "stdout",
     "output_type": "stream",
     "text": [
      "(945, 2)\n",
      "(2, 2)\n",
      "(2, 1684)\n"
     ]
    }
   ],
   "source": [
    "print(U.shape)\n",
    "print(S.shape)\n",
    "print(V.shape)"
   ]
  },
  {
   "cell_type": "code",
   "execution_count": 46,
   "metadata": {},
   "outputs": [
    {
     "data": {
      "text/plain": [
       "array([[ 8.10786631e-31, -6.52683802e-32,  2.71074763e-16, ...,\n",
       "         1.39246063e-18, -3.26977674e-19, -6.31241026e-19],\n",
       "       [-8.15655832e-31,  6.56603512e-32, -2.72702432e-16, ...,\n",
       "        -1.40082300e-18,  3.28942307e-19,  6.35032880e-19],\n",
       "       [-3.81722601e-16,  3.07293572e-17,  3.91732664e+00, ...,\n",
       "         6.24907371e-04,  1.41100865e-02,  1.36545898e-02],\n",
       "       ...,\n",
       "       [ 1.59851942e-15, -1.28680850e-16,  9.92051653e-01, ...,\n",
       "         2.89019090e-03,  9.34216478e-04,  2.66604405e-04],\n",
       "       [-5.17229881e-16,  4.16372829e-17,  1.30425392e+00, ...,\n",
       "        -4.20678031e-04,  5.30525882e-03,  5.28070243e-03],\n",
       "       [ 6.98097831e-16, -5.61964995e-17,  2.82999403e+00, ...,\n",
       "         2.02091497e-03,  8.67740551e-03,  8.03107508e-03]])"
      ]
     },
     "execution_count": 46,
     "metadata": {},
     "output_type": "execute_result"
    }
   ],
   "source": [
    "np.matmul(np.matmul(U,S),V)"
   ]
  },
  {
   "attachments": {},
   "cell_type": "markdown",
   "metadata": {},
   "source": [
    "## 사용자 기반 추천\n",
    "- 나와 비슷한 취향을 가진 다른 사용자의 행동을 추천\n",
    "- 사용자 특징 벡터의 유사도 사용"
   ]
  },
  {
   "cell_type": "code",
   "execution_count": 48,
   "metadata": {},
   "outputs": [
    {
     "name": "stdout",
     "output_type": "stream",
     "text": [
      "Best match : 0.989717301212012, Best match Id : 342 \n"
     ]
    }
   ],
   "source": [
    "def compute_cos_similarity(v1, v2):\n",
    "    norm1 = np.sqrt(np.sum(np.square(v1)))\n",
    "    norm2 = np.sqrt(np.sum(np.square(v2)))\n",
    "    dot = np.dot(v1, v2)\n",
    "    return dot/(norm1*norm2)\n",
    "\n"
   ]
  },
  {
   "cell_type": "code",
   "execution_count": 51,
   "metadata": {},
   "outputs": [
    {
     "name": "stdout",
     "output_type": "stream",
     "text": [
      "Best match : 0.989717301212012, Best match Id : 342 \n"
     ]
    }
   ],
   "source": [
    "my_id, my_vector = 0, U[0]\n",
    "best_match, best_match_id, best_match_vector = -1, -1, []\n",
    "\n",
    "for user_id, user_vector in enumerate(U):\n",
    "    # print(user_id, user_vector)\n",
    "    if my_id != user_id:\n",
    "        cos_similarity = compute_cos_similarity(my_vector, user_vector)\n",
    "        if cos_similarity > best_match:\n",
    "            best_match = cos_similarity\n",
    "            best_match_id = user_id\n",
    "            best_match_vector = user_vector\n",
    "print('Best match : {}, Best match Id : {} '.format(best_match, best_match_id))\n",
    "\n"
   ]
  },
  {
   "cell_type": "code",
   "execution_count": 52,
   "metadata": {},
   "outputs": [
    {
     "name": "stdout",
     "output_type": "stream",
     "text": [
      "[260, 289, 293, 295, 300, 331, 336, 359, 683, 873, 877, 878, 881, 882, 888, 896, 909, 949, 1026, 1281, 1528]\n"
     ]
    }
   ],
   "source": [
    "recommend_list = []\n",
    "for i, log in enumerate(zip(adj_matrix[my_id],adj_matrix[best_match_id])):\n",
    "    log1, log2 = log\n",
    "    if log1 < 1 and log2 > 0:\n",
    "        recommend_list.append(i)\n",
    "\n",
    "print(recommend_list)"
   ]
  },
  {
   "attachments": {},
   "cell_type": "markdown",
   "metadata": {},
   "source": [
    "## 항목 기반 추천\n",
    "- 내가 본 항목과 비슷한 항목을 추천\n",
    "- 항목 특징 벡터의 유사도 사용"
   ]
  },
  {
   "cell_type": "code",
   "execution_count": 99,
   "metadata": {},
   "outputs": [
    {
     "name": "stdout",
     "output_type": "stream",
     "text": [
      "Best match : 0.9980897688780365, Best match Id : 1618 \n",
      "0\n"
     ]
    }
   ],
   "source": [
    "my_id, my_vector = 0, V.T[0]\n",
    "best_match, best_match_id, best_match_vector = -1, -1, []\n",
    "\n",
    "for user_id, user_vector in enumerate(V.T):\n",
    "    # print(user_id, user_vector)\n",
    "    if my_id != user_id:\n",
    "        cos_similarity = compute_cos_similarity(my_vector, user_vector)\n",
    "        if cos_similarity > best_match:\n",
    "            best_match = cos_similarity\n",
    "            best_match_id = user_id\n",
    "            best_match_vector = user_vector\n",
    "print('Best match : {}, Best match Id : {} '.format(best_match, best_match_id))\n",
    "print(my_id)\n"
   ]
  },
  {
   "cell_type": "code",
   "execution_count": 98,
   "metadata": {},
   "outputs": [
    {
     "name": "stdout",
     "output_type": "stream",
     "text": [
      "[]\n"
     ]
    }
   ],
   "source": [
    "## 코드 이상\n",
    "# https://www.youtube.com/watch?v=6TP51jvjLsE\n",
    "# \n",
    "\n",
    "recommend_list = []\n",
    "for i, user_vector in enumerate(adj_matrix):\n",
    "    # print(adj_matrix[i][342])\n",
    "\n",
    "    if adj_matrix[i][my_id] > 0.9:\n",
    "        recommend_list.append(i)\n",
    "\n",
    "print(recommend_list)"
   ]
  },
  {
   "attachments": {},
   "cell_type": "markdown",
   "metadata": {},
   "source": [
    "## 비음수 행렬 분해를 사용한 하이브리드 추천"
   ]
  },
  {
   "cell_type": "code",
   "execution_count": 100,
   "metadata": {},
   "outputs": [],
   "source": [
    "A,B,iter = non_negative_factorization(adj_matrix,n_components=2)"
   ]
  },
  {
   "cell_type": "code",
   "execution_count": 101,
   "metadata": {},
   "outputs": [
    {
     "data": {
      "text/plain": [
       "array([[0.00000000e+00, 0.00000000e+00, 0.00000000e+00, ...,\n",
       "        0.00000000e+00, 0.00000000e+00, 0.00000000e+00],\n",
       "       [0.00000000e+00, 0.00000000e+00, 0.00000000e+00, ...,\n",
       "        0.00000000e+00, 0.00000000e+00, 0.00000000e+00],\n",
       "       [0.00000000e+00, 0.00000000e+00, 3.71107433e+00, ...,\n",
       "        3.64501985e-03, 1.45513752e-02, 1.44116216e-02],\n",
       "       ...,\n",
       "       [0.00000000e+00, 0.00000000e+00, 1.04478343e+00, ...,\n",
       "        2.35026394e-03, 1.40437985e-05, 0.00000000e+00],\n",
       "       [0.00000000e+00, 0.00000000e+00, 1.45769332e+00, ...,\n",
       "        1.61232507e-03, 5.15892651e-03, 5.10748252e-03],\n",
       "       [0.00000000e+00, 0.00000000e+00, 2.44709954e+00, ...,\n",
       "        2.56934860e-03, 9.08400316e-03, 8.99501732e-03]])"
      ]
     },
     "execution_count": 101,
     "metadata": {},
     "output_type": "execute_result"
    }
   ],
   "source": [
    "np.matmul(A,B)"
   ]
  },
  {
   "attachments": {},
   "cell_type": "markdown",
   "metadata": {},
   "source": [
    "### 사용자 기반 추천"
   ]
  },
  {
   "cell_type": "code",
   "execution_count": 110,
   "metadata": {},
   "outputs": [
    {
     "name": "stdout",
     "output_type": "stream",
     "text": [
      "Best match : 0.989717301212012, Best match Id : 342 \n"
     ]
    }
   ],
   "source": [
    "my_id, my_vector = 0, U[0]\n",
    "best_match, best_match_id, best_match_vector = -1, -1, []\n",
    "\n",
    "for user_id, user_vector in enumerate(U):\n",
    "    # print(user_id, user_vector)\n",
    "    if my_id != user_id:\n",
    "        cos_similarity = compute_cos_similarity(my_vector, user_vector)\n",
    "        if cos_similarity > best_match:\n",
    "            best_match = cos_similarity\n",
    "            best_match_id = user_id\n",
    "            best_match_vector = user_vector\n",
    "print('Best match : {}, Best match Id : {} '.format(best_match, best_match_id))\n",
    "\n"
   ]
  },
  {
   "cell_type": "code",
   "execution_count": 103,
   "metadata": {},
   "outputs": [
    {
     "name": "stdout",
     "output_type": "stream",
     "text": [
      "[260, 289, 293, 295, 300, 331, 336, 359, 683, 873, 877, 878, 881, 882, 888, 896, 909, 949, 1026, 1281, 1528]\n"
     ]
    }
   ],
   "source": [
    "recommend_list = []\n",
    "for i, log in enumerate(zip(adj_matrix[my_id],adj_matrix[best_match_id])):\n",
    "    log1, log2 = log\n",
    "    if log1 < 1 and log2 > 0:\n",
    "        recommend_list.append(i)\n",
    "\n",
    "print(recommend_list)"
   ]
  },
  {
   "attachments": {},
   "cell_type": "markdown",
   "metadata": {},
   "source": [
    "### 항목기반 추천"
   ]
  },
  {
   "cell_type": "code",
   "execution_count": 104,
   "metadata": {},
   "outputs": [
    {
     "name": "stdout",
     "output_type": "stream",
     "text": [
      "Best match : 0.9980897688780365, Best match Id : 1618 \n",
      "0\n"
     ]
    }
   ],
   "source": [
    "my_id, my_vector = 0, V.T[0]\n",
    "best_match, best_match_id, best_match_vector = -1, -1, []\n",
    "\n",
    "for user_id, user_vector in enumerate(V.T):\n",
    "    # print(user_id, user_vector)\n",
    "    if my_id != user_id:\n",
    "        cos_similarity = compute_cos_similarity(my_vector, user_vector)\n",
    "        if cos_similarity > best_match:\n",
    "            best_match = cos_similarity\n",
    "            best_match_id = user_id\n",
    "            best_match_vector = user_vector\n",
    "print('Best match : {}, Best match Id : {} '.format(best_match, best_match_id))\n",
    "print(my_id)\n"
   ]
  },
  {
   "cell_type": "code",
   "execution_count": 106,
   "metadata": {},
   "outputs": [
    {
     "name": "stdout",
     "output_type": "stream",
     "text": [
      "[]\n"
     ]
    }
   ],
   "source": [
    "recommend_list = []\n",
    "for i, user_vector in enumerate(adj_matrix):\n",
    "    if adj_matrix[i][my_id] > 0.9:\n",
    "        recommend_list.append(i)\n",
    "print(recommend_list)"
   ]
  },
  {
   "cell_type": "code",
   "execution_count": null,
   "metadata": {},
   "outputs": [],
   "source": []
  },
  {
   "cell_type": "code",
   "execution_count": 43,
   "metadata": {},
   "outputs": [
    {
     "name": "stdout",
     "output_type": "stream",
     "text": [
      "2의 제곱근 1.41\n"
     ]
    }
   ],
   "source": [
    "print('2의 제곱근 %.2f' % math.sqrt(2))\n"
   ]
  },
  {
   "cell_type": "code",
   "execution_count": 48,
   "metadata": {},
   "outputs": [
    {
     "data": {
      "text/plain": [
       "3"
      ]
     },
     "execution_count": 48,
     "metadata": {},
     "output_type": "execute_result"
    }
   ],
   "source": [
    "import operator\n",
    "operator.floordiv(10,3)"
   ]
  }
 ],
 "metadata": {
  "kernelspec": {
   "display_name": "coin",
   "language": "python",
   "name": "python3"
  },
  "language_info": {
   "codemirror_mode": {
    "name": "ipython",
    "version": 3
   },
   "file_extension": ".py",
   "mimetype": "text/x-python",
   "name": "python",
   "nbconvert_exporter": "python",
   "pygments_lexer": "ipython3",
   "version": "3.8.0"
  },
  "orig_nbformat": 4,
  "vscode": {
   "interpreter": {
    "hash": "670ea3be7ae3e40a7317c26fdde4915235a26c0e29fe79da319e913250fe01bf"
   }
  }
 },
 "nbformat": 4,
 "nbformat_minor": 2
}
