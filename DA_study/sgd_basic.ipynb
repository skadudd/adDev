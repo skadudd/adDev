{
 "cells": [
  {
   "cell_type": "code",
   "execution_count": 1,
   "metadata": {},
   "outputs": [],
   "source": [
    "import numpy as np"
   ]
  },
  {
   "cell_type": "code",
   "execution_count": 30,
   "metadata": {},
   "outputs": [],
   "source": [
    "class MatrixFactorization():\n",
    "    def __init__(self, R, k, learning_rate,req_param,epochs,verbose=False) -> None:\n",
    "        pass\n",
    "        \"\"\"\n",
    "        :param R: rating matrix\n",
    "        :param k: latent parameter\n",
    "        :param learning_rate: alpha on weight update\n",
    "        :param reg_param: beta on weight update\n",
    "        :param epochs: training epochs\n",
    "        :param verbose: print status\n",
    "        \"\"\"\n",
    "        self._R = R\n",
    "        self._num_users, self._num_items = R.shape  \n",
    "        self._k = k\n",
    "        self._learning_rate = learning_rate\n",
    "        self._req_param = req_param\n",
    "        self._epochs = epochs\n",
    "        self._verbos = verbose\n",
    "\n",
    "    def fit(self):\n",
    "        \"\"\"\n",
    "        training Matrix Factorization : Update matrix latent weight and bias\n",
    "\n",
    "        참고: self._b에 대한 설명\n",
    "        - global bias: input R에서 평가가 매겨진 rating의 평균값을 global bias로 사용\n",
    "        - 정규화 기능. 최종 rating에 음수가 들어가는 것 대신 latent feature에 음수가 포함되도록 해줌.\n",
    "\n",
    "        :return: training_process\n",
    "        \"\"\"\n",
    "        #init latent features\n",
    "        \n",
    "        #np.random.normal - 정규분포로부터 임의의 샘플들을 그린다\n",
    "        self._P = np.random.normal(size=(self._num_users, self._k))\n",
    "        self._Q = np.random.normal(size=(self._num_items, self._k))\n",
    "\n",
    "        #init biases\n",
    "        self._b_P = np.zeros(self._num_users)\n",
    "        self._b_Q = np.zeros(self._num_items)\n",
    "        self._b = np.mean(self._R[np.where(self._R != 0)])\n",
    "\n",
    "        #train while epochs\n",
    "        self._traning_process = []\n",
    "        for epoch in range(self._epochs):\n",
    "            #rating이 존재하는 index를 기준으로 traning\n",
    "            xi,yi = self._R.nonzero()\n",
    "            for i,j in zip(xi,yi):\n",
    "                self.gradient_descent(i,j,self._R[i,j])\n",
    "            cost = self.cost()\n",
    "            self._traning_process.append((epoch,cost))\n",
    "\n",
    "            #print status\n",
    "            if self._verbos == True and ((epoch + 1) % 10 == 0):\n",
    "                print(\"Iteration: %d ; cost = %.4f\" %(epoch + 1, cost))\n",
    "\n",
    "    def cost(self):\n",
    "        \"\"\"\n",
    "        compute root mean square error\n",
    "        :return: rmse cost\n",
    "        \"\"\"\n",
    "        #xi, yi : R[xi, yi]는 nonzero인 value를 의미한다.\n",
    "        xi,yi = self._R.nonzero()\n",
    "        # predicted = self.get_complete_matrix()\n",
    "        cost = 0\n",
    "        for x,y in zip(xi,yi):\n",
    "            cost += pow(self._R[x,y] - self.get_prediction(x,y),2)\n",
    "        return np.sqrt(cost/len(xi))\n",
    "\n",
    "    def gradient(self, error, i,j):\n",
    "        \"\"\"\n",
    "        gradient of latent feature for GD\n",
    "\n",
    "        :param error: rating - prediction error\n",
    "        :param i: user index\n",
    "        :param j: item index\n",
    "        :return: gradient of latent feature tuple\n",
    "        \"\"\"\n",
    "        dp = (error * self._Q[j,:]) - (self._req_param * self._P[i,:])\n",
    "        dq = (error * self._P[i,:]) - (self._req_param * self._Q[j,:])\n",
    "\n",
    "        return dp, dq\n",
    "\n",
    "    def gradient_descent(self, i,j,rating):\n",
    "        \"\"\"\n",
    "        graident descent function\n",
    "\n",
    "        :param i: user index of matrix\n",
    "        :param j: item index of matrix\n",
    "        :param rating: rating of (i,j)\n",
    "        \"\"\"\n",
    "\n",
    "        #get error\n",
    "        prediction = self.get_prediction(i,j)\n",
    "        error = rating - prediction\n",
    "\n",
    "        #update biases\n",
    "        self._b_P[i] += self._learning_rate * (error - self._req_param * self._b_P[i])\n",
    "        self._b_Q[j] += self._learning_rate * (error - self._req_param * self._b_Q[j])\n",
    "\n",
    "        #update Latent Feature\n",
    "        dp, dq = self.gradient(error, i, j)\n",
    "        self._P[i,:] += self._learning_rate * dp\n",
    "        self._Q[j,:] += self._learning_rate * dq\n",
    "\n",
    "    def get_prediction(self,i,j):\n",
    "        \"\"\"\n",
    "        get predicted rating: user_i, item_j\n",
    "        :return: prediction of r_ij\n",
    "        \"\"\"\n",
    "        return self._b + self._b_P[i] + self._b_Q[j] + self._P[i,:].dot(self._Q[j,:].T)\n",
    "\n",
    "    def get_complete_matrix(self):\n",
    "        \"\"\"\n",
    "        computer complete matrix PXQ + P.bias + Q.bias + global bias\n",
    "\n",
    "        - PXQ 행렬에 b_P[:, np.newaxis]를 더하는 것은 각 열마다 bias를 더해주는 것\n",
    "        - b_Q[np.newaxis:, ]를 더하는 것은 각 행마다 bias를 더해주는 것\n",
    "        - b를 더하는 것은 각 element마다 bias를 더해주는 것\n",
    "\n",
    "        - newaxis: 차원을 추가해줌. 1차원인 Latent들로 2차원의 R에 행/열 단위 연산을 해주기위해 차원을 추가하는 것.\n",
    "\n",
    "        :return: complete matrix R^\n",
    "        \"\"\"\n",
    "        return self._b + self._b_P[:, np.newaxis] + self._b_Q[np.newaxis,:] + self._P.dot(self._Q.T)\n",
    "\n"
   ]
  },
  {
   "cell_type": "code",
   "execution_count": 31,
   "metadata": {},
   "outputs": [],
   "source": [
    "if __name__ == \"__main__\":\n",
    "    # rating matrix - User X Item : (7 X 5)\n",
    "    R = np.array([\n",
    "        [1, 0, 0, 1, 3],\n",
    "        [2, 0, 3, 1, 1],\n",
    "        [1, 2, 0, 5, 0],\n",
    "        [1, 0, 0, 4, 4],\n",
    "        [2, 1, 5, 4, 0],\n",
    "        [5, 1, 5, 4, 0],\n",
    "        [0, 0, 0, 1, 0],\n",
    "    ])\n",
    "    # P, Q is (7 X k), (k X 5) matrix"
   ]
  },
  {
   "cell_type": "code",
   "execution_count": 38,
   "metadata": {},
   "outputs": [
    {
     "name": "stdout",
     "output_type": "stream",
     "text": [
      "Iteration: 10 ; cost = 0.9723\n",
      "Iteration: 20 ; cost = 0.6515\n",
      "Iteration: 30 ; cost = 0.4744\n",
      "Iteration: 40 ; cost = 0.3604\n",
      "Iteration: 50 ; cost = 0.2794\n",
      "Iteration: 60 ; cost = 0.2194\n",
      "Iteration: 70 ; cost = 0.1744\n",
      "Iteration: 80 ; cost = 0.1405\n",
      "Iteration: 90 ; cost = 0.1147\n",
      "Iteration: 100 ; cost = 0.0949\n",
      "CPU times: user 73.7 ms, sys: 11.1 ms, total: 84.8 ms\n",
      "Wall time: 81.5 ms\n"
     ]
    }
   ],
   "source": [
    "%%time\n",
    "factorizer = MatrixFactorization(R,k=3,learning_rate=0.01, req_param=0.01, epochs=100, verbose=True)\n",
    "factorizer.fit()"
   ]
  },
  {
   "cell_type": "code",
   "execution_count": 39,
   "metadata": {},
   "outputs": [
    {
     "data": {
      "text/plain": [
       "array([[ 1.01197006, -0.03223353,  4.07611755,  1.00655879,  2.99454406],\n",
       "       [ 2.07714947,  0.48457305,  2.86548749,  1.06093724,  1.07530374],\n",
       "       [ 1.04015099,  2.09236461,  3.4395164 ,  4.83113742,  3.27070617],\n",
       "       [ 1.02000828,  2.3345453 ,  4.0359397 ,  4.20607097,  3.87743484],\n",
       "       [ 1.97352926,  0.97709231,  5.02967522,  3.95340701,  4.38696325],\n",
       "       [ 4.93057724,  1.07497168,  5.0313031 ,  3.79496175,  2.8616885 ],\n",
       "       [ 5.40182498, -4.12169301,  3.35695308,  1.10083853, -0.47254944]])"
      ]
     },
     "execution_count": 39,
     "metadata": {},
     "output_type": "execute_result"
    }
   ],
   "source": [
    "factorizer.get_complete_matrix()"
   ]
  },
  {
   "cell_type": "code",
   "execution_count": 34,
   "metadata": {},
   "outputs": [
    {
     "data": {
      "text/plain": [
       "array([[1, 0, 0, 1, 3],\n",
       "       [2, 0, 3, 1, 1],\n",
       "       [1, 2, 0, 5, 0],\n",
       "       [1, 0, 0, 4, 4],\n",
       "       [2, 1, 5, 4, 0],\n",
       "       [5, 1, 5, 4, 0],\n",
       "       [0, 0, 0, 1, 0]])"
      ]
     },
     "execution_count": 34,
     "metadata": {},
     "output_type": "execute_result"
    }
   ],
   "source": [
    "R"
   ]
  }
 ],
 "metadata": {
  "kernelspec": {
   "display_name": "test1",
   "language": "python",
   "name": "test1"
  },
  "language_info": {
   "codemirror_mode": {
    "name": "ipython",
    "version": 3
   },
   "file_extension": ".py",
   "mimetype": "text/x-python",
   "name": "python",
   "nbconvert_exporter": "python",
   "pygments_lexer": "ipython3",
   "version": "3.7.0"
  },
  "orig_nbformat": 4
 },
 "nbformat": 4,
 "nbformat_minor": 2
}
