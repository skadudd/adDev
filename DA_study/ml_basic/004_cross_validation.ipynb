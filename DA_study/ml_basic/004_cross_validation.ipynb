{
 "cells": [
  {
   "cell_type": "code",
   "execution_count": 3,
   "metadata": {},
   "outputs": [],
   "source": [
    "import pandas as pd\n",
    "import numpy as np\n",
    "from sklearn.model_selection import train_test_split\n",
    "from sklearn.tree import DecisionTreeClassifier\n",
    "from sklearn.metrics import accuracy_score\n",
    "from sklearn.model_selection import KFold\n",
    "\n",
    "red_url = 'https://raw.githubusercontent.com/PinkWink/ML_tutorial/master/dataset/winequality-red.csv'\n",
    "white_url = 'https://raw.githubusercontent.com/PinkWink/ML_tutorial/master/dataset/winequality-white.csv'\n",
    "red_wine = pd.read_csv(red_url,sep=';')\n",
    "white_wine = pd.read_csv(white_url,sep=';')\n",
    "\n",
    "wine = pd.concat([red_wine,white_wine])\n",
    "wine['taste'] = [1. if grade > 5 else 0. for grade in wine.quality]\n",
    "\n",
    "X = wine.drop(['quality','taste'],axis=1)\n",
    "y = wine['taste']\n",
    "\n",
    "kfold = KFold(n_splits=5)\n",
    "de = DecisionTreeClassifier(max_depth=2, random_state=13)\n",
    "\n",
    "\n"
   ]
  },
  {
   "cell_type": "code",
   "execution_count": 6,
   "metadata": {},
   "outputs": [
    {
     "name": "stdout",
     "output_type": "stream",
     "text": [
      "5197 1300\n",
      "5197 1300\n",
      "5198 1299\n",
      "5198 1299\n",
      "5198 1299\n"
     ]
    }
   ],
   "source": [
    "\n",
    "for train_idx, test_idx in kfold.split(X):\n",
    "\tprint(len(train_idx),len(test_idx))"
   ]
  },
  {
   "cell_type": "code",
   "execution_count": 14,
   "metadata": {},
   "outputs": [
    {
     "name": "stdout",
     "output_type": "stream",
     "text": [
      "[0.6007692307692307, 0.6884615384615385, 0.7090069284064665, 0.7628945342571208, 0.7867590454195535]\n"
     ]
    }
   ],
   "source": [
    "cv_accuracy = []\n",
    "\n",
    "for train_idx, test_idx in kfold.split(X):\n",
    "\tX_train, X_test = X.iloc[train_idx], X.iloc[test_idx]\n",
    "\ty_train, y_test = y.iloc[train_idx], y.iloc[test_idx]\n",
    "\tde.fit(X_train,y_train)\n",
    "\tpred = de.predict(X_test)\n",
    "\tcv_accuracy.append(accuracy_score(y_test,pred))\n",
    "\n",
    "print(cv_accuracy)\n"
   ]
  },
  {
   "cell_type": "code",
   "execution_count": 16,
   "metadata": {},
   "outputs": [
    {
     "name": "stdout",
     "output_type": "stream",
     "text": [
      "Pipeline(steps=[('scaler', StandardScaler()),\n",
      "                ('clf', DecisionTreeClassifier(max_depth=2, random_state=13))])\n"
     ]
    }
   ],
   "source": [
    "from sklearn.pipeline import Pipeline\n",
    "from sklearn.tree import DecisionTreeClassifier\n",
    "from sklearn.preprocessing import StandardScaler\n",
    "from sklearn.model_selection import GridSearchCV\n",
    "import pprint\n",
    "\n",
    "estimators = [('scaler', StandardScaler()),\n",
    "\t\t\t ('clf', DecisionTreeClassifier(random_state=13))\n",
    "\t\t\t]\n",
    "pipe = Pipeline(estimators)\n",
    "\n",
    "param_grid = [{'clf__max_depth': [2,4,7,10]}]\n",
    "\n",
    "gridSearch = GridSearchCV(estimator = pipe, param_grid = param_grid, cv=5)\n",
    "gridSearch.fit(X,y)\n",
    "\n",
    "pp = pprint.PrettyPrinter(indent=4)\n",
    "pp.pprint(gridSearch.best_estimator_)\n"
   ]
  },
  {
   "cell_type": "code",
   "execution_count": null,
   "metadata": {},
   "outputs": [],
   "source": []
  }
 ],
 "metadata": {
  "kernelspec": {
   "display_name": "test1",
   "language": "python",
   "name": "test1"
  },
  "language_info": {
   "codemirror_mode": {
    "name": "ipython",
    "version": 3
   },
   "file_extension": ".py",
   "mimetype": "text/x-python",
   "name": "python",
   "nbconvert_exporter": "python",
   "pygments_lexer": "ipython3",
   "version": "3.7.0"
  },
  "orig_nbformat": 4
 },
 "nbformat": 4,
 "nbformat_minor": 2
}
