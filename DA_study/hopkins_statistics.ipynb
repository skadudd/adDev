{
 "cells": [
  {
   "cell_type": "code",
   "execution_count": 14,
   "metadata": {},
   "outputs": [],
   "source": [
    "import pandas as pd\n",
    "import numpy as np\n",
    "from sklearn.preprocessing import scale\n",
    "from pyclustertend import hopkins"
   ]
  },
  {
   "cell_type": "code",
   "execution_count": 3,
   "metadata": {},
   "outputs": [
    {
     "data": {
      "text/html": [
       "<div>\n",
       "<style scoped>\n",
       "    .dataframe tbody tr th:only-of-type {\n",
       "        vertical-align: middle;\n",
       "    }\n",
       "\n",
       "    .dataframe tbody tr th {\n",
       "        vertical-align: top;\n",
       "    }\n",
       "\n",
       "    .dataframe thead th {\n",
       "        text-align: right;\n",
       "    }\n",
       "</style>\n",
       "<table border=\"1\" class=\"dataframe\">\n",
       "  <thead>\n",
       "    <tr style=\"text-align: right;\">\n",
       "      <th></th>\n",
       "      <th>RANK</th>\n",
       "      <th>NET WORTH</th>\n",
       "      <th>AGE</th>\n",
       "      <th>IT(1) / Beauty(2) / Car(3)</th>\n",
       "      <th>북미(1) / 유럽(2) / 아시아(3) / 기타(4)</th>\n",
       "      <th>NAME</th>\n",
       "    </tr>\n",
       "  </thead>\n",
       "  <tbody>\n",
       "    <tr>\n",
       "      <th>0</th>\n",
       "      <td>1</td>\n",
       "      <td>176.6</td>\n",
       "      <td>73</td>\n",
       "      <td>1</td>\n",
       "      <td>2</td>\n",
       "      <td>Bernard Arnault &amp; family</td>\n",
       "    </tr>\n",
       "    <tr>\n",
       "      <th>1</th>\n",
       "      <td>2</td>\n",
       "      <td>146.5</td>\n",
       "      <td>51</td>\n",
       "      <td>2</td>\n",
       "      <td>1</td>\n",
       "      <td>Elon Musk</td>\n",
       "    </tr>\n",
       "    <tr>\n",
       "      <th>2</th>\n",
       "      <td>3</td>\n",
       "      <td>116.7</td>\n",
       "      <td>60</td>\n",
       "      <td>3</td>\n",
       "      <td>3</td>\n",
       "      <td>Gautam Adani</td>\n",
       "    </tr>\n",
       "    <tr>\n",
       "      <th>3</th>\n",
       "      <td>4</td>\n",
       "      <td>108.5</td>\n",
       "      <td>58</td>\n",
       "      <td>1</td>\n",
       "      <td>1</td>\n",
       "      <td>Jeff Bezos</td>\n",
       "    </tr>\n",
       "    <tr>\n",
       "      <th>4</th>\n",
       "      <td>5</td>\n",
       "      <td>106.3</td>\n",
       "      <td>92</td>\n",
       "      <td>1</td>\n",
       "      <td>1</td>\n",
       "      <td>Warren Buffett</td>\n",
       "    </tr>\n",
       "  </tbody>\n",
       "</table>\n",
       "</div>"
      ],
      "text/plain": [
       "   RANK  NET WORTH  AGE  IT(1) / Beauty(2) / Car(3)  \\\n",
       "0     1      176.6   73                           1   \n",
       "1     2      146.5   51                           2   \n",
       "2     3      116.7   60                           3   \n",
       "3     4      108.5   58                           1   \n",
       "4     5      106.3   92                           1   \n",
       "\n",
       "   북미(1) / 유럽(2) / 아시아(3) / 기타(4)                      NAME  \n",
       "0                               2  Bernard Arnault & family  \n",
       "1                               1                 Elon Musk  \n",
       "2                               3              Gautam Adani  \n",
       "3                               1                Jeff Bezos  \n",
       "4                               1            Warren Buffett  "
      ]
     },
     "execution_count": 3,
     "metadata": {},
     "output_type": "execute_result"
    }
   ],
   "source": [
    "df = pd.read_csv('../data/top_50_billionaires2.csv')\n",
    "df.head()\n"
   ]
  },
  {
   "cell_type": "code",
   "execution_count": 38,
   "metadata": {},
   "outputs": [
    {
     "data": {
      "text/plain": [
       "array([[176.6,  73. ],\n",
       "       [146.5,  51. ],\n",
       "       [116.7,  60. ],\n",
       "       [108.5,  58. ],\n",
       "       [106.3,  92. ],\n",
       "       [103.5,  67. ],\n",
       "       [101.4,  78. ],\n",
       "       [ 87.9,  65. ],\n",
       "       [ 83.6,  82. ],\n",
       "       [ 78.2,  66. ],\n",
       "       [ 78.2,  49. ],\n",
       "       [ 76.8,  80. ],\n",
       "       [ 75. ,  49. ],\n",
       "       [ 71.4,  69. ],\n",
       "       [ 67.8,  68. ],\n",
       "       [ 64. ,  86. ],\n",
       "       [ 61.5,  74. ],\n",
       "       [ 60.2,  78. ],\n",
       "       [ 59.3,  73. ],\n",
       "       [ 58.2,  60. ],\n",
       "       [ 58.2,  87. ],\n",
       "       [ 52.3,  65. ],\n",
       "       [ 51.6,  57. ],\n",
       "       [ 49.5,  38. ],\n",
       "       [ 44.8,  84. ],\n",
       "       [ 43. ,  38. ],\n",
       "       [ 41.4,  52. ],\n",
       "       [ 39. ,  83. ],\n",
       "       [ 39. ,  87. ],\n",
       "       [ 35. ,  58. ],\n",
       "       [ 35. ,  51. ],\n",
       "       [ 33.7,  86. ],\n",
       "       [ 33.7,  65. ],\n",
       "       [ 33.6,  83. ],\n",
       "       [ 33.6,  94. ],\n",
       "       [ 32.8,  71. ],\n",
       "       [ 32.8,  74. ],\n",
       "       [ 32.7,  53. ],\n",
       "       [ 31.3,  54. ],\n",
       "       [ 30.9,  77. ],\n",
       "       [ 30.3,  94. ],\n",
       "       [ 30.3,  73. ],\n",
       "       [ 30. ,  64. ],\n",
       "       [ 29.6,  42. ],\n",
       "       [ 28.9,  85. ],\n",
       "       [ 28.1,  84. ],\n",
       "       [ 27.8,  74. ],\n",
       "       [ 27.7,  68. ],\n",
       "       [ 27.5,  50. ],\n",
       "       [ 27. ,  77. ],\n",
       "       [ 26.4,  61. ],\n",
       "       [ 25.4,  66. ],\n",
       "       [ 25.3,  52. ],\n",
       "       [ 24.8,  75. ],\n",
       "       [ 24.7,  60. ],\n",
       "       [ 24.4,  67. ],\n",
       "       [ 23.7,  80. ],\n",
       "       [ 23.7,  77. ],\n",
       "       [ 23.5,  78. ],\n",
       "       [ 23.5,  69. ],\n",
       "       [ 23.3,  51. ],\n",
       "       [ 23. ,  52. ],\n",
       "       [ 23. ,  41. ],\n",
       "       [ 22.9,  65. ],\n",
       "       [ 22.7,  58. ],\n",
       "       [ 22.3,  81. ],\n",
       "       [ 21.9,  79. ],\n",
       "       [ 21.9,  56. ],\n",
       "       [ 21.8,  36. ],\n",
       "       [ 21.5,  83. ],\n",
       "       [ 21.4,  89. ],\n",
       "       [ 21.2,  77. ],\n",
       "       [ 21. ,  72. ],\n",
       "       [ 20.9,  81. ],\n",
       "       [ 20.8,  70. ],\n",
       "       [ 20.2,  61. ],\n",
       "       [ 20.1,  56. ],\n",
       "       [ 19.8,  84. ],\n",
       "       [ 19.4,  57. ],\n",
       "       [ 19.1,  73. ],\n",
       "       [ 18.7,  52. ],\n",
       "       [ 18.5,  59. ],\n",
       "       [ 18.5,  65. ],\n",
       "       [ 18.4,  57. ],\n",
       "       [ 18.2,  82. ],\n",
       "       [ 18.1,  61. ],\n",
       "       [ 17.8,  67. ],\n",
       "       [ 17.7,  71. ],\n",
       "       [ 17.6,  86. ],\n",
       "       [ 17.5,  66. ],\n",
       "       [ 17.4,  76. ],\n",
       "       [ 17.4,  90. ],\n",
       "       [ 17.4,  45. ],\n",
       "       [ 16.8,  60. ],\n",
       "       [ 16.8,  72. ],\n",
       "       [ 16.8,  66. ],\n",
       "       [ 16.8,  91. ],\n",
       "       [ 16.7,  54. ],\n",
       "       [ 16.5,  71. ]])"
      ]
     },
     "execution_count": 38,
     "metadata": {},
     "output_type": "execute_result"
    }
   ],
   "source": [
    "x = df[['NET WORTH','AGE']].values\n",
    "x\n"
   ]
  },
  {
   "cell_type": "code",
   "execution_count": 39,
   "metadata": {},
   "outputs": [
    {
     "data": {
      "text/plain": [
       "0.2754400673417197"
      ]
     },
     "execution_count": 39,
     "metadata": {},
     "output_type": "execute_result"
    }
   ],
   "source": [
    "hopkins(scale(x),x.shape[0])\n"
   ]
  }
 ],
 "metadata": {
  "kernelspec": {
   "display_name": "coin",
   "language": "python",
   "name": "python3"
  },
  "language_info": {
   "codemirror_mode": {
    "name": "ipython",
    "version": 3
   },
   "file_extension": ".py",
   "mimetype": "text/x-python",
   "name": "python",
   "nbconvert_exporter": "python",
   "pygments_lexer": "ipython3",
   "version": "3.8.0"
  },
  "orig_nbformat": 4,
  "vscode": {
   "interpreter": {
    "hash": "670ea3be7ae3e40a7317c26fdde4915235a26c0e29fe79da319e913250fe01bf"
   }
  }
 },
 "nbformat": 4,
 "nbformat_minor": 2
}
