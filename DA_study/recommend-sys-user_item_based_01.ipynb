{
 "cells": [
  {
   "cell_type": "code",
   "execution_count": 2,
   "metadata": {},
   "outputs": [
    {
     "data": {
      "text/plain": [
       "[('196', '242', 3.0, '881250949'),\n",
       " ('186', '302', 3.0, '891717742'),\n",
       " ('22', '377', 1.0, '878887116'),\n",
       " ('244', '51', 2.0, '880606923'),\n",
       " ('166', '346', 1.0, '886397596'),\n",
       " ('298', '474', 4.0, '884182806'),\n",
       " ('115', '265', 2.0, '881171488'),\n",
       " ('253', '465', 5.0, '891628467'),\n",
       " ('305', '451', 3.0, '886324817'),\n",
       " ('6', '86', 3.0, '883603013')]"
      ]
     },
     "execution_count": 2,
     "metadata": {},
     "output_type": "execute_result"
    }
   ],
   "source": [
    "import surprise\n",
    "from surprise import SVD\n",
    "from surprise import Dataset\n",
    "from surprise.model_selection import cross_validate\n",
    "import pandas as pd\n",
    "import numpy as np\n",
    "from matplotlib import pyplot as plt\n",
    "from sklearn.model_selection import KFold\n",
    "\n",
    "data = Dataset.load_builtin('ml-100k', prompt=False)\n",
    "data.raw_ratings[:10]\n"
   ]
  },
  {
   "cell_type": "code",
   "execution_count": 4,
   "metadata": {},
   "outputs": [],
   "source": [
    "model = SVD()"
   ]
  },
  {
   "cell_type": "code",
   "execution_count": 6,
   "metadata": {},
   "outputs": [
    {
     "name": "stdout",
     "output_type": "stream",
     "text": [
      "Evaluating RMSE, MAE of algorithm SVD on 5 split(s).\n",
      "\n",
      "                  Fold 1  Fold 2  Fold 3  Fold 4  Fold 5  Mean    Std     \n",
      "RMSE (testset)    0.9373  0.9389  0.9367  0.9315  0.9323  0.9353  0.0029  \n",
      "MAE (testset)     0.7383  0.7375  0.7400  0.7345  0.7355  0.7372  0.0020  \n",
      "Fit time          0.43    0.55    0.56    0.41    0.42    0.47    0.07    \n",
      "Test time         0.08    0.11    0.18    0.08    0.08    0.11    0.04    \n"
     ]
    },
    {
     "data": {
      "text/plain": [
       "{'test_rmse': array([0.93727485, 0.93891519, 0.93667973, 0.93149028, 0.93229237]),\n",
       " 'test_mae': array([0.73834199, 0.73754296, 0.73995697, 0.73446107, 0.73554232]),\n",
       " 'fit_time': (0.42996692657470703,\n",
       "  0.5458259582519531,\n",
       "  0.5619261264801025,\n",
       "  0.4144458770751953,\n",
       "  0.41840291023254395),\n",
       " 'test_time': (0.08258605003356934,\n",
       "  0.10776090621948242,\n",
       "  0.18478822708129883,\n",
       "  0.07706022262573242,\n",
       "  0.07650923728942871)}"
      ]
     },
     "execution_count": 6,
     "metadata": {},
     "output_type": "execute_result"
    }
   ],
   "source": [
    "cross_validate(model, data, measures=['rmse', 'mae'], cv=5, verbose=True)\n"
   ]
  },
  {
   "cell_type": "code",
   "execution_count": 11,
   "metadata": {},
   "outputs": [
    {
     "data": {
      "text/plain": [
       "array([[      196,       242,         3, 881250949],\n",
       "       [      186,       302,         3, 891717742],\n",
       "       [       22,       377,         1, 878887116],\n",
       "       ...,\n",
       "       [      276,      1090,         1, 874795795],\n",
       "       [       13,       225,         2, 882399156],\n",
       "       [       12,       203,         3, 879959583]])"
      ]
     },
     "execution_count": 11,
     "metadata": {},
     "output_type": "execute_result"
    }
   ],
   "source": [
    "raw_data = np.array(data.raw_ratings, dtype=int)\n",
    "raw_data"
   ]
  },
  {
   "cell_type": "code",
   "execution_count": 14,
   "metadata": {},
   "outputs": [
    {
     "data": {
      "text/plain": [
       "(941, 1680)"
      ]
     },
     "execution_count": 14,
     "metadata": {},
     "output_type": "execute_result"
    }
   ],
   "source": [
    "raw_data[:,0] -= 1\n",
    "raw_data[:,1] -= 1\n",
    "raw_data\n",
    "\n",
    "n_users = np.max(raw_data[:,0])\n",
    "n_movies = np.max(raw_data[:,1])\n",
    "shape = (n_users +1, n_movies + 1)\n",
    "shape"
   ]
  },
  {
   "attachments": {},
   "cell_type": "markdown",
   "metadata": {},
   "source": [
    "# 기본 추천 알고리즘.\n",
    "- 영화를 봤는지 보지 않았는지를 기준으로 유사도를 측정한다.\n",
    "- 해당 유저의 본 영화중, 내가 보지 않은 영화를 추천해준다.\n"
   ]
  },
  {
   "cell_type": "code",
   "execution_count": 62,
   "metadata": {},
   "outputs": [
    {
     "data": {
      "text/plain": [
       "array([[0, 0, 0, ..., 0, 0, 0],\n",
       "       [0, 0, 0, ..., 0, 0, 0],\n",
       "       [0, 0, 0, ..., 0, 1, 1],\n",
       "       ...,\n",
       "       [0, 0, 0, ..., 0, 1, 0],\n",
       "       [1, 1, 1, ..., 0, 1, 1],\n",
       "       [0, 0, 0, ..., 0, 1, 1]])"
      ]
     },
     "execution_count": 62,
     "metadata": {},
     "output_type": "execute_result"
    }
   ],
   "source": [
    "#데이터가 존재하면 1을 찍어준다.\n",
    "adj_matrix = np.ndarray(shape, dtype=int)\n",
    "for user_id, movie_id, rating, time in raw_data:\n",
    "    adj_matrix[user_id][movie_id] = 1\n",
    "adj_matrix\n"
   ]
  },
  {
   "cell_type": "code",
   "execution_count": 76,
   "metadata": {},
   "outputs": [
    {
     "name": "stdout",
     "output_type": "stream",
     "text": [
      "Best match : 47, Best match Id : 10 \n"
     ]
    }
   ],
   "source": [
    "my_id, my_vector = 0, adj_matrix[0]\n",
    "best_match, best_match_id, best_match_vector = -1, -1, []\n",
    "\n",
    "for user_id, user_vector in enumerate(adj_matrix):\n",
    "    # print(user_id, user_vector)\n",
    "    if my_id != user_id:\n",
    "        similarity = np.dot(my_vector, user_vector)\n",
    "        if similarity > best_match:\n",
    "            best_match = similarity\n",
    "            best_match_id = user_id\n",
    "            best_match_vector = user_vector\n",
    "print('Best match : {}, Best match Id : {} '.format(best_match, best_match_id))"
   ]
  },
  {
   "cell_type": "code",
   "execution_count": null,
   "metadata": {},
   "outputs": [],
   "source": [
    "recommend_list = []\n",
    "for i, log in enumerate(zip(my_vector,best_match_vector)):\n",
    "    log1, log2 = log\n",
    "    if log1 < 1 and log2 > 0:\n",
    "        recommend_list.append(i)\n",
    "\n",
    "recommend_list"
   ]
  },
  {
   "attachments": {},
   "cell_type": "markdown",
   "metadata": {},
   "source": [
    "# 유클리디안 거리 기반 추천\n"
   ]
  },
  {
   "cell_type": "code",
   "execution_count": 82,
   "metadata": {},
   "outputs": [
    {
     "name": "stdout",
     "output_type": "stream",
     "text": [
      "Best match : 6.48074069840786, Best match Id : 314 \n"
     ]
    },
    {
     "data": {
      "text/plain": [
       "[310, 675, 680, 745, 876]"
      ]
     },
     "execution_count": 82,
     "metadata": {},
     "output_type": "execute_result"
    }
   ],
   "source": [
    "my_id, my_vector = 0, adj_matrix[0]\n",
    "best_match, best_match_id, best_match_vector = 9999, -1, []\n",
    "\n",
    "for user_id, user_vector in enumerate(adj_matrix):\n",
    "\n",
    "    # print(user_id, user_vector)\n",
    "    if my_id != user_id:\n",
    "        euclidean_dist = np.sqrt(np.sum(np.square(my_vector - user_vector)))\n",
    "        if euclidean_dist < best_match:\n",
    "            best_match = euclidean_dist\n",
    "            best_match_id = user_id\n",
    "            best_match_vector = user_vector\n",
    "print('Best match : {}, Best match Id : {} '.format(best_match, best_match_id))\n",
    "\n",
    "recommend_list = []\n",
    "for i, log in enumerate(zip(my_vector,best_match_vector)):\n",
    "    log1, log2 = log\n",
    "    if log1 < 1 and log2 > 0:\n",
    "        recommend_list.append(i)\n",
    "\n",
    "recommend_list"
   ]
  },
  {
   "attachments": {},
   "cell_type": "markdown",
   "metadata": {},
   "source": [
    "# 코사인 거리\n"
   ]
  },
  {
   "cell_type": "code",
   "execution_count": 84,
   "metadata": {},
   "outputs": [
    {
     "name": "stdout",
     "output_type": "stream",
     "text": [
      "Best match : 0.5188106719705753, Best match Id : 613 \n",
      "[266, 283, 286, 289, 298, 310, 312, 313, 359, 675, 686, 745, 747, 870, 876, 892, 934, 1310]\n"
     ]
    }
   ],
   "source": [
    "def compute_cos_similarity(v1, v2):\n",
    "    norm1 = np.sqrt(np.sum(np.square(v1)))\n",
    "    norm2 = np.sqrt(np.sum(np.square(v2)))\n",
    "    dot = np.dot(v1, v2)\n",
    "    return dot/(norm1*norm2)\n",
    "\n",
    "my_id, my_vector = 0, adj_matrix[0]\n",
    "best_match, best_match_id, best_match_vector = -1, -1, []\n",
    "\n",
    "for user_id, user_vector in enumerate(adj_matrix):\n",
    "    # print(user_id, user_vector)\n",
    "    if my_id != user_id:\n",
    "        cos_similarity = compute_cos_similarity(my_vector, user_vector)\n",
    "        if cos_similarity > best_match:\n",
    "            best_match = cos_similarity\n",
    "            best_match_id = user_id\n",
    "            best_match_vector = user_vector\n",
    "print('Best match : {}, Best match Id : {} '.format(best_match, best_match_id))\n",
    "\n",
    "recommend_list = []\n",
    "for i, log in enumerate(zip(my_vector,best_match_vector)):\n",
    "    log1, log2 = log\n",
    "    if log1 < 1 and log2 > 0:\n",
    "        recommend_list.append(i)\n",
    "\n",
    "print(recommend_list)"
   ]
  },
  {
   "attachments": {},
   "cell_type": "markdown",
   "metadata": {},
   "source": [
    "## 0,1로 영화 시청 미시청으로 나눴던 행렬에 영화 평점을 넣는다."
   ]
  },
  {
   "cell_type": "code",
   "execution_count": 86,
   "metadata": {},
   "outputs": [
    {
     "data": {
      "text/plain": [
       "array([[0, 0, 0, ..., 0, 0, 0],\n",
       "       [0, 0, 0, ..., 0, 0, 0],\n",
       "       [0, 0, 0, ..., 0, 4, 3],\n",
       "       ...,\n",
       "       [0, 0, 0, ..., 0, 5, 0],\n",
       "       [4, 3, 3, ..., 0, 5, 3],\n",
       "       [0, 0, 0, ..., 0, 4, 5]])"
      ]
     },
     "execution_count": 86,
     "metadata": {},
     "output_type": "execute_result"
    }
   ],
   "source": [
    "adj_matrix = np.ndarray(shape, dtype=int)\n",
    "for user_id, movie_id, rating, time in raw_data:\n",
    "    adj_matrix[user_id][movie_id] = rating\n",
    "adj_matrix"
   ]
  },
  {
   "cell_type": "code",
   "execution_count": 87,
   "metadata": {},
   "outputs": [
    {
     "name": "stdout",
     "output_type": "stream",
     "text": [
      "Best match : 20.952326839756964, Best match Id : 314 \n"
     ]
    },
    {
     "data": {
      "text/plain": [
       "[310, 675, 680, 745, 876]"
      ]
     },
     "execution_count": 87,
     "metadata": {},
     "output_type": "execute_result"
    }
   ],
   "source": [
    "my_id, my_vector = 0, adj_matrix[0]\n",
    "best_match, best_match_id, best_match_vector = 9999, -1, []\n",
    "\n",
    "for user_id, user_vector in enumerate(adj_matrix):\n",
    "\n",
    "    # print(user_id, user_vector)\n",
    "    if my_id != user_id:\n",
    "        euclidean_dist = np.sqrt(np.sum(np.square(my_vector - user_vector)))\n",
    "        if euclidean_dist < best_match:\n",
    "            best_match = euclidean_dist\n",
    "            best_match_id = user_id\n",
    "            best_match_vector = user_vector\n",
    "print('Best match : {}, Best match Id : {} '.format(best_match, best_match_id))\n",
    "\n",
    "recommend_list = []\n",
    "for i, log in enumerate(zip(my_vector,best_match_vector)):\n",
    "    log1, log2 = log\n",
    "    if log1 < 1 and log2 > 0:\n",
    "        recommend_list.append(i)\n",
    "\n",
    "recommend_list"
   ]
  },
  {
   "cell_type": "code",
   "execution_count": 88,
   "metadata": {},
   "outputs": [
    {
     "name": "stdout",
     "output_type": "stream",
     "text": [
      "Best match : 0.4890317942714801, Best match Id : 860 \n",
      "[239, 256, 259, 266, 267, 283, 286, 289, 298, 301, 302, 303, 307, 310, 312, 313, 356, 358, 359, 535, 679, 680, 687, 688, 745, 746, 747, 748, 749, 751, 869, 870, 873, 874, 876, 879, 882, 883, 884, 892, 895, 897, 898, 899, 900, 903, 905, 906, 907, 987, 1019, 1021, 1035, 1059, 1124, 1231, 1234, 1240, 1291, 1293, 1310, 1392, 1428, 1431, 1604, 1675, 1676, 1677]\n"
     ]
    }
   ],
   "source": [
    "def compute_cos_similarity(v1, v2):\n",
    "    norm1 = np.sqrt(np.sum(np.square(v1)))\n",
    "    norm2 = np.sqrt(np.sum(np.square(v2)))\n",
    "    dot = np.dot(v1, v2)\n",
    "    return dot/(norm1*norm2)\n",
    "\n",
    "my_id, my_vector = 0, adj_matrix[0]\n",
    "best_match, best_match_id, best_match_vector = -1, -1, []\n",
    "\n",
    "for user_id, user_vector in enumerate(adj_matrix):\n",
    "    # print(user_id, user_vector)\n",
    "    if my_id != user_id:\n",
    "        cos_similarity = compute_cos_similarity(my_vector, user_vector)\n",
    "        if cos_similarity > best_match:\n",
    "            best_match = cos_similarity\n",
    "            best_match_id = user_id\n",
    "            best_match_vector = user_vector\n",
    "print('Best match : {}, Best match Id : {} '.format(best_match, best_match_id))\n",
    "\n",
    "recommend_list = []\n",
    "for i, log in enumerate(zip(my_vector,best_match_vector)):\n",
    "    log1, log2 = log\n",
    "    if log1 < 1 and log2 > 0:\n",
    "        recommend_list.append(i)\n",
    "\n",
    "print(recommend_list)"
   ]
  },
  {
   "attachments": {},
   "cell_type": "markdown",
   "metadata": {},
   "source": [
    "# 협업 필터링\n",
    "- 사용자와 항목의 유사성을 동시에 고려하여 추천\n",
    "- 기존에 내 관심사가 아닌 항목이라도 추천 가능\n",
    "- 자동으로 임베딩 학습 가능\n",
    "- 협업 필터링은 다음과 같은 장단점 갖고 있음.\n",
    "    - 장점\n",
    "        - 자동으로 임베딩을 학습하기 때문에 도메인 지식이 필요 없음.\n",
    "        - 기존의 관심사가 아니더라도 추천 가능\n",
    "    - 단점\n",
    "        - 학습 과정에 나오지 않은 항목은 임베딩을 만들 수 잆음\n",
    "        - 추가 특성을 사용하기 어려움\n",
    "        \n"
   ]
  },
  {
   "cell_type": "code",
   "execution_count": null,
   "metadata": {},
   "outputs": [],
   "source": []
  }
 ],
 "metadata": {
  "kernelspec": {
   "display_name": "coin",
   "language": "python",
   "name": "python3"
  },
  "language_info": {
   "codemirror_mode": {
    "name": "ipython",
    "version": 3
   },
   "file_extension": ".py",
   "mimetype": "text/x-python",
   "name": "python",
   "nbconvert_exporter": "python",
   "pygments_lexer": "ipython3",
   "version": "3.8.0 (default, Nov  6 2019, 15:49:01) \n[Clang 4.0.1 (tags/RELEASE_401/final)]"
  },
  "orig_nbformat": 4,
  "vscode": {
   "interpreter": {
    "hash": "670ea3be7ae3e40a7317c26fdde4915235a26c0e29fe79da319e913250fe01bf"
   }
  }
 },
 "nbformat": 4,
 "nbformat_minor": 2
}
