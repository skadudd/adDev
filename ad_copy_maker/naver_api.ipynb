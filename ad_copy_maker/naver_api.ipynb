{
 "cells": [
  {
   "cell_type": "code",
   "execution_count": 1,
   "metadata": {},
   "outputs": [],
   "source": [
    "# 네이버 검색 API 예제 - 블로그 검색\n",
    "import pandas as pd\n",
    "import requests\n",
    "import os\n",
    "import sys\n",
    "import urllib.request\n",
    "import json\n",
    "import datetime\n",
    "import xlsxwriter\n"
   ]
  },
  {
   "cell_type": "code",
   "execution_count": 53,
   "metadata": {},
   "outputs": [
    {
     "name": "stdout",
     "output_type": "stream",
     "text": [
      "[2023-01-18 22:42:25.490614] Url Requests Success\n",
      "[2023-01-18 22:42:25.810113] Url Requests Success\n",
      "[2023-01-18 22:42:26.164760] Url Requests Success\n",
      "[2023-01-18 22:42:26.679566] Url Requests Success\n",
      "[2023-01-18 22:42:27.287161] Url Requests Success\n",
      "[2023-01-18 22:42:27.764725] Url Requests Success\n",
      "[2023-01-18 22:42:28.289989] Url Requests Success\n",
      "[2023-01-18 22:42:28.932295] Url Requests Success\n",
      "[2023-01-18 22:42:29.547452] Url Requests Success\n",
      "[2023-01-18 22:42:30.264107] Url Requests Success\n"
     ]
    }
   ],
   "source": [
    "def get_search_order():\n",
    "    keyword = input(\"키워드 : \")\n",
    "      \n",
    "    return keyword\n",
    "\n",
    "def get_client_info():\n",
    "    client = pd.read_csv('~/API/naver_API.csv')\n",
    "    client_id = client.loc[0,'client_id']\n",
    "    client_secret = client.loc[0,'client_secret']\n",
    "\n",
    "    return client_id,client_secret\n",
    "\n",
    "def gen_search_url(node, search_text, start_num, disp_num):\n",
    "    base = \"https://openapi.naver.com/v1/search\"\n",
    "    node = \"/\" + node + \".json\"\n",
    "    param_query = \"?query=\" + urllib.parse.quote(search_text)\n",
    "    param_start = \"&start=\" + str(start_num)\n",
    "    param_disp = \"&display=\" + str(disp_num)\n",
    "    \n",
    "    return base + node + param_query + param_start + param_disp\n",
    "\n",
    "def get_result_onpage(client_id,client_secret,url):\n",
    "    request = urllib.request.Request(url)\n",
    "    request.add_header(\"X-Naver-Client-Id\",client_id)\n",
    "    request.add_header(\"X-Naver-Client-Secret\",client_secret)\n",
    "    response = urllib.request.urlopen(request)\n",
    "    print(\"[%s] Url Requests Success\" % datetime.datetime.now())\n",
    "\n",
    "    return json.loads(response.read().decode(\"utf-8\"))\n",
    "\n",
    "def get_fields(json_data):\n",
    "    title = [delete_tag(i[\"title\"]) for i in json_data[\"items\"]]\n",
    "    description = [delete_tag(i[\"description\"]) for i in json_data[\"items\"]]\n",
    "    postdate = [i[\"postdate\"] for i in json_data[\"items\"]]\n",
    "    bloggername = [i[\"bloggername\"] for i in json_data[\"items\"]]\n",
    "    df = pd.DataFrame({\n",
    "        \"title\" : title,\n",
    "        \"description\" : description,\n",
    "        \"bloggername\" : bloggername,\n",
    "        \"postdate\" : postdate,\n",
    "        })\n",
    "\n",
    "    return df\n",
    "\n",
    "def delete_tag(input_str):\n",
    "    input_str = input_str.replace(\"<b>\",\"\")\n",
    "    input_str = input_str.replace(\"</b>\",\"\")\n",
    "    return input_str\n",
    "\n",
    "def actMain(kwd):\n",
    "    total_result = []\n",
    "    client_id,client_secret = get_client_info()\n",
    "    for i in range(1,1000,100):\n",
    "        url = gen_search_url(\"blog\",kwd,i,100)\n",
    "        one_result = get_result_onpage(client_id,client_secret,url)\n",
    "        df = get_fields(one_result)      \n",
    "        total_result.append(df)\n",
    "    \n",
    "    total_result = pd.concat(total_result)\n",
    "    total_result.reset_index(drop=True, inplace=True)\n",
    "    return total_result\n",
    "\n",
    "def export_file(keyword,total_result):\n",
    "    writer = pd.ExcelWriter(f\"/Users/young/git/project/export/{keyword}_{datetime.datetime.now()}.xlsx\", engine=\"xlsxwriter\")\n",
    "    total_result.to_excel(writer,sheet_name='Sheet1')\n",
    "    workbook = writer.book\n",
    "    worksheet = writer.sheets[\"Sheet1\"]\n",
    "    writer.save()\n",
    "    pass\n",
    "\n",
    "def init():\n",
    "    keyword = get_search_order()\n",
    "    total_result = actMain(keyword)\n",
    "    export_file(keyword,total_result)\n",
    "\n",
    "\n",
    "init()"
   ]
  }
 ],
 "metadata": {
  "kernelspec": {
   "display_name": "test1",
   "language": "python",
   "name": "test1"
  },
  "language_info": {
   "codemirror_mode": {
    "name": "ipython",
    "version": 3
   },
   "file_extension": ".py",
   "mimetype": "text/x-python",
   "name": "python",
   "nbconvert_exporter": "python",
   "pygments_lexer": "ipython3",
   "version": "3.7.0"
  },
  "orig_nbformat": 4,
  "vscode": {
   "interpreter": {
    "hash": "53e118947077c4ac14cd9b5bd8ffefe9287941f870ede6c6d93932b2f5dedd6a"
   }
  }
 },
 "nbformat": 4,
 "nbformat_minor": 2
}
