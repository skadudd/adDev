{
 "cells": [
  {
   "cell_type": "code",
   "execution_count": 208,
   "metadata": {},
   "outputs": [],
   "source": [
    "from selenium import webdriver\n",
    "from selenium.webdriver import ActionChains\n",
    "from selenium.webdriver.common.by import By\n",
    "from selenium import webdriver as wd\n",
    "from selenium.webdriver.support.ui import WebDriverWait\n",
    "from selenium.webdriver.support import expected_conditions as EC\n",
    "from bs4 import BeautifulSoup\n",
    "import requests\n",
    "import time\n",
    "import re\n",
    "import pandas as pd\n",
    "import numpy as np"
   ]
  },
  {
   "cell_type": "code",
   "execution_count": 209,
   "metadata": {},
   "outputs": [],
   "source": [
    "url = \"https://search.naver.com/search.naver?sm=tab_hty.top&where=blog&query=&oquery=%ED%8C%8C%EC%9D%B4%EC%8D%AC&tqi=h8CEzsp0JXVssahDcBCssssstXK-464763\"\n",
    "search_param = '파이썬 공부'\n"
   ]
  },
  {
   "cell_type": "code",
   "execution_count": 216,
   "metadata": {},
   "outputs": [],
   "source": [
    "driver = webdriver.Chrome(\"./chromedriver\")\n",
    "driver.get(url)"
   ]
  },
  {
   "cell_type": "code",
   "execution_count": 217,
   "metadata": {},
   "outputs": [],
   "source": [
    "#검색창 클릭\n",
    "search_box = driver.find_element(By.CSS_SELECTOR,'#nx_query')\n",
    "search_box.send_keys(search_param)"
   ]
  },
  {
   "cell_type": "code",
   "execution_count": 218,
   "metadata": {},
   "outputs": [],
   "source": [
    "#검색어 입력 및 클릭\n",
    "search_enter = driver.find_element(By.CSS_SELECTOR,'#nx_search_form > fieldset > button > i')\n",
    "search_enter.click()"
   ]
  },
  {
   "cell_type": "code",
   "execution_count": 219,
   "metadata": {},
   "outputs": [],
   "source": [
    "driver.maximize_window()"
   ]
  },
  {
   "cell_type": "code",
   "execution_count": 220,
   "metadata": {},
   "outputs": [],
   "source": [
    "def execute_script(order):\n",
    "    order_result = driver.execute_script(order)\n",
    "    return order_result\n"
   ]
  },
  {
   "cell_type": "code",
   "execution_count": 221,
   "metadata": {},
   "outputs": [
    {
     "name": "stdout",
     "output_type": "stream",
     "text": [
      "42078\n",
      "4298\n",
      "79858\n",
      "42078\n",
      "117658\n",
      "79858\n",
      "132694\n",
      "117658\n",
      "132694\n",
      "132694\n"
     ]
    }
   ],
   "source": [
    "#스크롤\n",
    "get_last_height = \"return document.body.scrollHeight\"\n",
    "do_scroll = \"window.scrollTo(0,document.body.scrollHeight);\"\n",
    "\n",
    "\n",
    "i = 0\n",
    "last_height = execute_script(get_last_height)\n",
    "\n",
    "while True:\n",
    "    # last_height = driver.execute_script(\"return document.body.scrollHeight\") \n",
    "    # last_height\n",
    "    \n",
    "    execute_script(do_scroll)\n",
    "    time.sleep(1)\n",
    "    i += 1\n",
    "    if i == 10:\n",
    "        new_last_height = execute_script(get_last_height)\n",
    "        print(new_last_height)\n",
    "        print(last_height)\n",
    "        if last_height == new_last_height:\n",
    "            break\n",
    "        else:\n",
    "            last_height = new_last_height\n",
    "            i = 0\n",
    "        # driver.execute_script(\"window.scrollTo(0,document.body.scrollHeight);\") \n",
    "html = driver.page_source\n",
    "soup = BeautifulSoup(html,'html.parser')\n",
    "driver.quit()"
   ]
  },
  {
   "cell_type": "code",
   "execution_count": 223,
   "metadata": {},
   "outputs": [
    {
     "name": "stdout",
     "output_type": "stream",
     "text": [
      "파이썬코딩 : 활용분야 및 공부방향성 가이드라인\n"
     ]
    },
    {
     "data": {
      "text/plain": [
       "'  인공지능 분야는 방대한 데이터를 활용하게 되며 파이썬은 이러한 작업을 효율적으로 만들어주는 역할을 맡습니다. 파이썬 공부, 분야에 따른 공부방향성은?...   '"
      ]
     },
     "execution_count": 223,
     "metadata": {},
     "output_type": "execute_result"
    }
   ],
   "source": [
    "title = soup.select('ul.lst_total>li>div>div>a')\n",
    "description = soup.select('ul.lst_total>li>div>div>.total_group>div')\n",
    "timestamp = soup.select('ul.lst_total>li>div>div>div>.total_sub>span>span>.etc_dsc_area')\n",
    "author = soup.select('ul.lst_total>li>div>div>div>.total_sub>span>span>.etc_dsc_inner>a')\n",
    "\n",
    "print(title[0].text)\n",
    "timestamp[0].text\n",
    "author[0].text\n",
    "description[0].text"
   ]
  },
  {
   "cell_type": "code",
   "execution_count": null,
   "metadata": {},
   "outputs": [],
   "source": [
    "tag = driver.find_element(By.CSS_SELECTOR, '셀렉터')\n",
    "action = ActionChains(driver)\n",
    "action.move_to_element(tag).perform()"
   ]
  },
  {
   "cell_type": "code",
   "execution_count": 32,
   "metadata": {},
   "outputs": [],
   "source": [
    "tag.click()"
   ]
  },
  {
   "cell_type": "code",
   "execution_count": 137,
   "metadata": {},
   "outputs": [],
   "source": []
  },
  {
   "cell_type": "code",
   "execution_count": 116,
   "metadata": {},
   "outputs": [],
   "source": [
    "\n"
   ]
  },
  {
   "cell_type": "code",
   "execution_count": 129,
   "metadata": {},
   "outputs": [],
   "source": [
    "divs = soup.find_all(\"ul\",attrs = {\"class\":\"lst_total\"})"
   ]
  }
 ],
 "metadata": {
  "kernelspec": {
   "display_name": "test1",
   "language": "python",
   "name": "test1"
  },
  "language_info": {
   "codemirror_mode": {
    "name": "ipython",
    "version": 3
   },
   "file_extension": ".py",
   "mimetype": "text/x-python",
   "name": "python",
   "nbconvert_exporter": "python",
   "pygments_lexer": "ipython3",
   "version": "3.7.0"
  },
  "orig_nbformat": 4,
  "vscode": {
   "interpreter": {
    "hash": "5c7b89af1651d0b8571dde13640ecdccf7d5a6204171d6ab33e7c296e100e08a"
   }
  }
 },
 "nbformat": 4,
 "nbformat_minor": 2
}
